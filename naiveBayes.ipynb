{
 "cells": [
  {
   "cell_type": "code",
   "execution_count": null,
   "metadata": {
    "collapsed": true
   },
   "outputs": [],
   "source": [
    "import numpy as np\n",
    "import scipy.stats as st\n",
    "from sklearn.naive_bayes import GaussianNB\n",
    "from sklearn.naive_bayes import MultinomialNB"
   ]
  },
  {
   "cell_type": "markdown",
   "metadata": {},
   "source": [
    "# Problem 1"
   ]
  },
  {
   "cell_type": "code",
   "execution_count": 24,
   "metadata": {
    "collapsed": false
   },
   "outputs": [
    {
     "name": "stdout",
     "output_type": "stream",
     "text": [
      "Accuracy:  0.95\n"
     ]
    }
   ],
   "source": [
    "def prob1(ind = None):\n",
    "    data= np.loadtxt(\"seeds_dataset.txt\")\n",
    "    if ind is None:\n",
    "        ind = np.random.randint(0,data.shape[0],40)\n",
    "    test = data[ind]\n",
    "    train = data[list(set(range(data.shape[0])) - set(ind))]\n",
    "    means = np.array([train[train[:,-1] == i,:-1].mean(axis=0) for i in range(1,4)])\n",
    "    variances = np.array([train[train[:,-1] == i,:-1].var(axis=0) for i in range(1,4)])\n",
    "    \n",
    "    logprobs = [st.norm.logpdf(line[:-1],loc=means,scale=np.sqrt(variances)) for line in test]\n",
    "    c = [np.argmax(line.sum(axis=1))+1 for line in logprobs]\n",
    "    return np.mean(c == test[:,-1]),c\n",
    "accuracy,c = prob1()\n",
    "print \"Accuracy: \",accuracy"
   ]
  },
  {
   "cell_type": "markdown",
   "metadata": {},
   "source": [
    "# Problem 2"
   ]
  },
  {
   "cell_type": "code",
   "execution_count": 25,
   "metadata": {
    "collapsed": false
   },
   "outputs": [
    {
     "name": "stdout",
     "output_type": "stream",
     "text": [
      "Different Labels: 0\n",
      "Accuracy:  0.975\n"
     ]
    }
   ],
   "source": [
    "def prob2():\n",
    "    data= np.loadtxt(\"seeds_dataset.txt\")\n",
    "    ind = np.random.randint(0,data.shape[0],40)\n",
    "    test = data[ind]\n",
    "    train = data[list(set(range(data.shape[0])) - set(ind))]\n",
    "    \n",
    "    nb_classifier = GaussianNB()\n",
    "\n",
    "    nb_classifier.fit(train[:,:-1], train[:,-1])\n",
    "    \n",
    "    sk_c = nb_classifier.predict(test[:,:-1])\n",
    "    a,my_c = prob1(ind)\n",
    "    \n",
    "    print \"Different Labels:\" ,np.sum(sk_c != my_c)\n",
    "    print \"Accuracy: \", np.mean(sk_c == test[:,-1])\n",
    "\n",
    "prob2()"
   ]
  },
  {
   "cell_type": "markdown",
   "metadata": {},
   "source": [
    "# Problem 3"
   ]
  },
  {
   "cell_type": "code",
   "execution_count": 26,
   "metadata": {
    "collapsed": true
   },
   "outputs": [],
   "source": [
    "class naiveBayes(object):\n",
    "    \"\"\" \n",
    "    This class performs Naive Bayes classification for word-count document features.\n",
    "    \"\"\" \n",
    "    def __init__(self):\n",
    "        \"\"\" \n",
    "        Initialize a Naive Bayes classifier.\n",
    "        \"\"\" \n",
    "        pass\n",
    "\n",
    "    def fit(self,X,Y):\n",
    "        \"\"\" \n",
    "        Fit the parameters according to the labeled training data (X,Y).\n",
    "\n",
    "        Parameters\n",
    "        ----------\n",
    "        X : ndarray of shape (n_samples, n_features)\n",
    "            Each row is the word-count vector for one of the documents\n",
    "        Y : ndarray of shape (n_samples,)\n",
    "            Gives the class label for each instance of training data. \n",
    "            Assume class labels are in {0,1,...,k-1} where k is the number of classes.\n",
    "        \"\"\" \n",
    "        # get prior class probabilities P(c_i)\n",
    "        # (you may wish to store these as a length k vector as a class attribute)\n",
    "\n",
    "        # get (smoothed) word-class probabilities\n",
    "        # (you may wish to store these in a (k, n_features) matrix as a class attribute)\n",
    "\n",
    "        self.n_samples,self.n_features = X.shape\n",
    "        self.P = np.array([(Y == i).mean() for i in set(Y)])\n",
    "        self.n_classes = len(set(Y))\n",
    "        \n",
    "        self.p = np.array([(X[Y==i]).sum(axis=0) +1 for i in xrange(self.n_classes)])\n",
    "        self.p /= self.p.sum(axis=1).reshape(self.p.shape[0],1)\n",
    "            \n",
    "        \n",
    "\n",
    "    def predict(self, X): \n",
    "        \"\"\" \n",
    "        Predict the class labels of a set of test data.\n",
    "\n",
    "        Parameters\n",
    "        ----------\n",
    "        X : ndarray of shape (n_samples, n_features)\n",
    "            The test data\n",
    "\n",
    "        Returns\n",
    "        -------\n",
    "        Y : ndarray of shape (n_samples,)\n",
    "            Gives the classification of each row in X\n",
    "        \"\"\" \n",
    "        return np.argmax( np.log(self.P) + X.dot(np.log(self.p).T),axis=1)"
   ]
  },
  {
   "cell_type": "markdown",
   "metadata": {},
   "source": [
    "# Problem 4"
   ]
  },
  {
   "cell_type": "code",
   "execution_count": null,
   "metadata": {
    "collapsed": false
   },
   "outputs": [],
   "source": [
    "def prob4():\n",
    "    feats = np.loadtxt(\"SpamFeatures.txt\")\n",
    "    labs = np.loadtxt(\"SpamLabels.txt\")\n",
    "    nb = naiveBayes()\n",
    "    trainInd = np.random.randint(0,feats.shape[0],500)\n",
    "    testInd = list(set(range(feats.shape[0])) - set(trainInd))\n",
    "    trainFeats = feats[trainInd]\n",
    "    trainLabs = labs[trainInd]\n",
    "\n",
    "    testFeats = feats[testInd]\n",
    "    testLabs = labs[testInd]\n",
    "    nb.fit(trainFeats,trainLabs)\n",
    "\n",
    "    my_labs = nb.predict(testFeats)\n",
    "\n",
    "\n",
    "    print \"My Accuracy: \",np.mean(my_labs==testLabs)\n",
    "\n",
    "    mult_nb = MultinomialNB()\n",
    "    mult_nb.fit(trainFeats,trainLabs)\n",
    "\n",
    "    mult_labs = mult_nb.predict(testFeats)\n",
    "    print \"MultinomialNB Accuracy: \",np.mean(mult_labs==testLabs)\n",
    "\n",
    "prob4()"
   ]
  }
 ],
 "metadata": {
  "kernelspec": {
   "display_name": "Python 2",
   "language": "python2",
   "name": "python2"
  },
  "language_info": {
   "codemirror_mode": {
    "name": "ipython",
    "version": 2
   },
   "file_extension": ".py",
   "mimetype": "text/x-python",
   "name": "python",
   "nbconvert_exporter": "python",
   "pygments_lexer": "ipython2",
   "version": "2.7.11"
  }
 },
 "nbformat": 4,
 "nbformat_minor": 0
}
