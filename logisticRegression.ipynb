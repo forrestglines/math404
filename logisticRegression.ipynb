{
 "cells": [
  {
   "cell_type": "code",
   "execution_count": 1,
   "metadata": {
    "collapsed": false
   },
   "outputs": [],
   "source": [
    "import numpy as np\n",
    "import pandas as pd\n",
    "import sklearn.metrics\n",
    "from sklearn.linear_model import LogisticRegression\n",
    "from sklearn.naive_bayes import MultinomialNB\n",
    "import matplotlib.pyplot as plt\n",
    "%matplotlib inline"
   ]
  },
  {
   "cell_type": "markdown",
   "metadata": {},
   "source": [
    "## Prob 1"
   ]
  },
  {
   "cell_type": "code",
   "execution_count": 2,
   "metadata": {
    "collapsed": false
   },
   "outputs": [],
   "source": [
    "sort = None\n",
    "def resort():\n",
    "    data = pd.read_csv(\"titanic4real.csv\")\n",
    "    return np.random.permutation(np.arange(len(data)))\n",
    "sort = resort()\n",
    "def initialize(pclass_change=True):\n",
    "    allData = pd.read_csv(\"titanic4real.csv\")\n",
    "    \n",
    "    labels = allData[\"Survived\"]\n",
    "    data  = allData[[\"Pclass\",\"Sex\",\"Age\",\"Fare\",\"Sibsp\",\"Parch\",\"Embarked\"]]\n",
    "    data = data.replace({'male': 1, 'female': 0,\"S\":1,\"C\":2,\"Q\":3})\n",
    "    data = data.fillna(0)\n",
    "    labels = labels.fillna(0)\n",
    "    \n",
    "    if pclass_change:\n",
    "        data[\"FirstClass\"] = (data[\"Pclass\"] == 1)*1\n",
    "        data[\"SecondClass\"] = (data[\"Pclass\"] == 2)*1\n",
    "        data = data.drop(\"Pclass\",axis=1)\n",
    "    \n",
    "   \n",
    "    num_train = int(len(data)*.6)\n",
    "    train = data.ix[sort][:num_train]\n",
    "    test = data.ix[sort][num_train:]\n",
    "    \n",
    "    trainLabels = labels[sort][:num_train]\n",
    "    testLabels = labels[sort][num_train:]\n",
    "    return train,trainLabels,test,testLabels"
   ]
  },
  {
   "cell_type": "markdown",
   "metadata": {},
   "source": [
    "## Prob 2"
   ]
  },
  {
   "cell_type": "code",
   "execution_count": 3,
   "metadata": {
    "collapsed": true
   },
   "outputs": [],
   "source": [
    "def best_tau(predicted_labels, true_labels, n_tau=100, plot=True):\n",
    "    \"\"\"\n",
    "    Parameters\n",
    "    ----------\n",
    "    predicted_labels : ndarray of shape (n,)\n",
    "    The predicted labels for the data\n",
    "    true_labels : ndarray of shape (n,)\n",
    "    The actual labels for the data\n",
    "    n_tau : int\n",
    "    The number of values to try for tau\n",
    "    plot : boolean\n",
    "    Whether or not to plot the roc curve\n",
    "    Returns\n",
    "    -------\n",
    "    best_tau : float\n",
    "    The optimal value for tau for the data.\n",
    "    \"\"\"\n",
    "    best_tau = None\n",
    "    best = -np.infty\n",
    "    Tau = np.linspace(0,1,n_tau)\n",
    "    \n",
    "    FPRs = np.empty(n_tau)\n",
    "    TPRs = np.empty(n_tau)\n",
    "    \n",
    "    for i,tau in enumerate(Tau):\n",
    "        TP = np.sum((labels >= tau) & (true_Labels == 1))\n",
    "        TN = np.sum((labels < tau) & (true_Labels == 0))\n",
    "\n",
    "        FP = np.sum((labels >= tau) & (true_Labels == 0))\n",
    "        FN = np.sum((labels < tau) & (true_Labels == 1))\n",
    "        \n",
    "        TPR = TP/(TP+FN)\n",
    "        FPR = FP/(FP+TN)\n",
    "        \n",
    "        FPRs[i] = FPR\n",
    "        TPRs[i] = TPR\n",
    "        \n",
    "        val = TPR - FPR\n",
    "        if val > best:\n",
    "            best = val\n",
    "            best_tau = tau\n",
    "    if(plot):\n",
    "        plt.plot(FPRs,TPRs)"
   ]
  },
  {
   "cell_type": "markdown",
   "metadata": {},
   "source": [
    "## Prob 3"
   ]
  },
  {
   "cell_type": "code",
   "execution_count": 4,
   "metadata": {
    "collapsed": true
   },
   "outputs": [],
   "source": [
    "def auc_scoreLogReg(C,pclass_change=True,plot = True):\n",
    "    \n",
    "    train,trainLabels,test,testLabels = initialize(pclass_change)\n",
    "    \n",
    "    model = LogisticRegression(C=C)\n",
    "    \n",
    "    model.fit(train,trainLabels)\n",
    "    \n",
    "    predict = model.predict_proba(test)\n",
    "    \n",
    "    FPR, TPR, threshold = sklearn.metrics.roc_curve(\n",
    "        testLabels, predict[:,1], pos_label=1)\n",
    "    \n",
    "    if plot:\n",
    "        plt.plot(FPR,TPR)\n",
    "        if pclass_change:\n",
    "            plt.title(\"LogReg Changed, C={}\".format(C))\n",
    "        else:\n",
    "            plt.title(\"LogReg Unchanged, C={}\".format(C))\n",
    "        plt.xlabel(\"FPR\")\n",
    "        plt.ylabel(\"TPR\")\n",
    "        plt.show()\n",
    "    return sklearn.metrics.auc(FPR,TPR)"
   ]
  },
  {
   "cell_type": "code",
   "execution_count": 5,
   "metadata": {
    "collapsed": false
   },
   "outputs": [
    {
     "data": {
      "text/plain": [
       "(0.82035690882213985, 0.82466968408540198)"
      ]
     },
     "execution_count": 5,
     "metadata": {},
     "output_type": "execute_result"
    }
   ],
   "source": [
    "def auc_scoresLogReg(unchanged_logreg, changed_logreg):\n",
    "    \"\"\"\n",
    "    Parameters\n",
    "    ----------\n",
    "    unchanged_logreg : float in (0,1)\n",
    "    The value to use for C in the unchanged model\n",
    "    changed_logreg : float in (0,1)\n",
    "    The value to use for C in the changed model\n",
    "    Returns\n",
    "    -------\n",
    "    unchanged_auc : float\n",
    "    The auc for the unchanged model\n",
    "    changed_auc : float\n",
    "    The auc for the changed model\n",
    "    \"\"\"\n",
    "    \n",
    "    return auc_scoreLogReg(unchanged_logreg,pclass_change=False,plot=False),\\\n",
    "           auc_scoreLogReg(changed_logreg,pclass_change=True,plot=False)\n",
    "auc_scoresLogReg(.5,.5)"
   ]
  },
  {
   "cell_type": "markdown",
   "metadata": {},
   "source": [
    "## Prob 4"
   ]
  },
  {
   "cell_type": "code",
   "execution_count": 6,
   "metadata": {
    "collapsed": false
   },
   "outputs": [
    {
     "data": {
      "text/plain": [
       "(0.70212133680793665, 0.69392249196116973)"
      ]
     },
     "execution_count": 6,
     "metadata": {},
     "output_type": "execute_result"
    }
   ],
   "source": [
    "def auc_scoreBayes(alpha,pclass_change=True,plot = True):\n",
    "    \n",
    "    train,trainLabels,test,testLabels = initialize(pclass_change)\n",
    "    \n",
    "    model = MultinomialNB(alpha=alpha)\n",
    "    \n",
    "    model.fit(train,trainLabels)\n",
    "    \n",
    "    predict = model.predict_proba(test)\n",
    "    \n",
    "    FPR, TPR, threshold = sklearn.metrics.roc_curve(\n",
    "        testLabels, predict[:,1], pos_label=1)\n",
    "    \n",
    "    if plot:\n",
    "        plt.plot(FPR,TPR)\n",
    "        if pclass_change:\n",
    "            plt.title(\"Bayes Changed, alpha={}\".format(alpha))\n",
    "        else:\n",
    "            plt.title(\"Bayes Unchanged, alpha={}\".format(alpha))\n",
    "        plt.xlabel(\"FPR\")\n",
    "        plt.ylabel(\"TPR\")\n",
    "        plt.show()\n",
    "    return sklearn.metrics.auc(FPR,TPR)\n",
    "def auc_scoresBayes(unchanged_bayes, changed_bayes):\n",
    "    \"\"\"\n",
    "    Parameters\n",
    "    ----------\n",
    "    unchanged_logreg : float in (0,1)\n",
    "    The value to use for C in the unchanged model\n",
    "    changed_logreg : float in (0,1)\n",
    "    The value to use for C in the changed model\n",
    "    Returns\n",
    "    -------\n",
    "    unchanged_auc : float\n",
    "    The auc for the unchanged model\n",
    "    changed_auc : float\n",
    "    The auc for the changed model\n",
    "    \"\"\"\n",
    "    \n",
    "    return auc_scoreBayes(unchanged_bayes,pclass_change=False,plot=False),\\\n",
    "           auc_scoreBayes(changed_bayes,pclass_change=True,plot=False)\n",
    "auc_scoresBayes(.5,.5)"
   ]
  },
  {
   "cell_type": "code",
   "execution_count": 7,
   "metadata": {
    "collapsed": false
   },
   "outputs": [
    {
     "data": {
      "text/plain": [
       "(0.82035690882213985,\n",
       " 0.82466968408540198,\n",
       " 0.70212133680793665,\n",
       " 0.69392249196116973)"
      ]
     },
     "execution_count": 7,
     "metadata": {},
     "output_type": "execute_result"
    }
   ],
   "source": [
    "def auc_scores(unchanged_logreg, changed_logreg,\n",
    "               unchanged_bayes, changed_bayes):\n",
    "    \"\"\"\n",
    "    Parameters\n",
    "    ----------\n",
    "    unchanged_logreg : float in (0,1)\n",
    "    The value to use for C in the unchanged model\n",
    "    changed_logreg : float in (0,1)\n",
    "    The value to use for C in the changed model\n",
    "    Returns\n",
    "    -------\n",
    "    unchanged_auc : float\n",
    "    The auc for the unchanged model\n",
    "    changed_auc : float\n",
    "    The auc for the changed model\n",
    "    \"\"\"\n",
    "    \n",
    "    return (auc_scoresLogReg(unchanged_logreg,changed_logreg)+ \n",
    "            auc_scoresBayes(unchanged_bayes,changed_bayes))\n",
    "auc_scores(.5,.5,.5,.5)"
   ]
  },
  {
   "cell_type": "markdown",
   "metadata": {},
   "source": [
    "## Prob 5"
   ]
  },
  {
   "cell_type": "code",
   "execution_count": 8,
   "metadata": {
    "collapsed": true
   },
   "outputs": [],
   "source": [
    "def find_best_parameters(num):\n",
    "    \"\"\"\n",
    "    Parameters\n",
    "    ----------\n",
    "    num : int\n",
    "    The number of values to try for C and alpha\n",
    "    Returns\n",
    "    -------\n",
    "    best : list of length 4\n",
    "    The best values for C for the unchanged and changed logistic\n",
    "    regression models, and the best values for alpha for the\n",
    "    unchanged and changed Naive Bayes models, respectively.\n",
    "    \"\"\"\n",
    "    best_params = [None]*4\n",
    "    bests = [-np.infty]*4\n",
    "    \n",
    "    for param in np.linspace(0,1,num)[1:-1]:\n",
    "        vals = auc_scores(*([param]*4))\n",
    "        \n",
    "        for i in range(4):\n",
    "            if vals[i] > bests[i]:\n",
    "                best_params[i] = param\n",
    "                bests[i] = vals[i]\n",
    "    return best_params"
   ]
  },
  {
   "cell_type": "markdown",
   "metadata": {},
   "source": [
    "## Prob 6"
   ]
  },
  {
   "cell_type": "code",
   "execution_count": 9,
   "metadata": {
    "collapsed": false
   },
   "outputs": [
    {
     "data": {
      "image/png": "[encoded data removed]",
      "text/plain": [
       "<matplotlib.figure.Figure at 0x7f2b5ecc2f90>"
      ]
     },
     "metadata": {},
     "output_type": "display_data"
    },
    {
     "data": {
      "image/png": "[encoded data removed]",
      "text/plain": [
       "<matplotlib.figure.Figure at 0x7f2b5ed05450>"
      ]
     },
     "metadata": {},
     "output_type": "display_data"
    },
    {
     "data": {
      "image/png": "[encoded data removed]",
      "text/plain": [
       "<matplotlib.figure.Figure at 0x7f2b5eb35510>"
      ]
     },
     "metadata": {},
     "output_type": "display_data"
    },
    {
     "data": {
      "image/png": "[encoded data removed]",
      "text/plain": [
       "<matplotlib.figure.Figure at 0x7f2b5ea64c50>"
      ]
     },
     "metadata": {},
     "output_type": "display_data"
    },
    {
     "name": "stdout",
     "output_type": "stream",
     "text": [
      "Bayes Changed   0.693876773495\n",
      "Bayes Unchanged   0.702067998598\n",
      "LogReg Unchanged   0.81996068212\n",
      "LogReg Changed   0.825751687773\n"
     ]
    }
   ],
   "source": [
    "def results():\n",
    "    params = find_best_parameters(10)\n",
    "    scores = np.empty(4)\n",
    "    scores[0] = auc_scoreLogReg(params[0],pclass_change=False,plot = True)\n",
    "    scores[1] = auc_scoreLogReg(params[1],pclass_change=True,plot = True)\n",
    "    scores[2] = auc_scoreBayes(params[0],pclass_change=False,plot = True)\n",
    "    scores[3] = auc_scoreBayes(params[1],pclass_change=True,plot = True)\n",
    "    names = (\"LogReg Unchanged\",\"LogReg Changed\",\n",
    "             \"Bayes Unchanged\",\"Bayes Changed\")\n",
    "    for name,score in np.array(zip(names,scores))[np.argsort(scores)]:\n",
    "        print name,\" \",score\n",
    "results()"
   ]
  },
  {
   "cell_type": "markdown",
   "metadata": {},
   "source": [
    "LogReg Changed did the best"
   ]
  }
 ],
 "metadata": {
  "kernelspec": {
   "display_name": "Python 2",
   "language": "python2",
   "name": "python2"
  },
  "language_info": {
   "codemirror_mode": {
    "name": "ipython",
    "version": 2
   },
   "file_extension": ".py",
   "mimetype": "text/x-python",
   "name": "python",
   "nbconvert_exporter": "python",
   "pygments_lexer": "ipython2",
   "version": "2.7.11"
  }
 },
 "nbformat": 4,
 "nbformat_minor": 0
}
