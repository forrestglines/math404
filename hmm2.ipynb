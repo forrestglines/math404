{
 "cells": [
  {
   "cell_type": "code",
   "execution_count": 27,
   "metadata": {
    "collapsed": false
   },
   "outputs": [],
   "source": [
    "import numpy as np\n",
    "import MFCC\n",
    "import scipy\n",
    "from scipy.io.wavfile import read\n",
    "import fnmatch\n",
    "import os\n",
    "import glob\n",
    "import pickle"
   ]
  },
  {
   "cell_type": "markdown",
   "metadata": {},
   "source": [
    "# Problem 1"
   ]
  },
  {
   "cell_type": "code",
   "execution_count": 4,
   "metadata": {
    "collapsed": true
   },
   "outputs": [],
   "source": [
    "def sample_gmmhmm(gmmhmm, n_sim):\n",
    "    \"\"\"\n",
    "    Simulate sampling from a GMMHMM.\n",
    "    gmmhmm = [A, weights, means, covars, pi]\n",
    "    Returns\n",
    "    -------\n",
    "    states : ndarray of shape (n_sim,)\n",
    "    The sequence of states\n",
    "    obs : ndarray of shape (n_sim, K)\n",
    "    The generated observations (column vectors of length K)\n",
    "    \"\"\"\n",
    "    A,weights,means,covars,pi = gmmhmm\n",
    "    states = np.empty(n_sim,dtype='int32')\n",
    "    obs = np.empty((n_sim,means.shape[1]))\n",
    "    states[0] = int(np.argmax(np.random.multinomial(1,pi)))\n",
    "    for i in xrange(n_sim):\n",
    "        sample_component = int(np.argmax(\n",
    "                np.random.multinomial(1, weights[states[i],:])))\n",
    "        obs[i] = np.random.multivariate_normal(\n",
    "                        means[states[i], sample_component, :], \n",
    "                        covars[states[i], sample_component, :, :])\n",
    "        if i+1 != n_sim:\n",
    "            states[i+1] = int(np.argmax(\n",
    "                np.random.multinomial(1,A[states[i]])))\n",
    "    return states,obs"
   ]
  },
  {
   "cell_type": "markdown",
   "metadata": {},
   "source": [
    "Testing problem 1"
   ]
  },
  {
   "cell_type": "code",
   "execution_count": 5,
   "metadata": {
    "collapsed": false
   },
   "outputs": [
    {
     "data": {
      "text/plain": [
       "(array([0, 1, 1, 1, 1, 0, 0, 0, 1, 1], dtype=int32),\n",
       " array([[  6.33912087, -11.61318906,  -8.41196492],\n",
       "        [ 18.46593289, -33.75325316,  -0.30483888],\n",
       "        [-13.03661446,  -0.58311584,  13.19631393],\n",
       "        [-13.53074848,  -1.14335225,  12.8938018 ],\n",
       "        [-10.98557849,  -1.0775124 ,  16.03938241],\n",
       "        [  9.32049172, -13.16615285,  -4.93089293],\n",
       "        [ -2.91514145,  16.86142171,  -1.74817317],\n",
       "        [  4.90953084, -13.80801675,  -8.64075437],\n",
       "        [ 13.3965406 , -33.23650346,  -4.59064789],\n",
       "        [-11.63321304,  -3.5113175 ,  12.90834922]]))"
      ]
     },
     "execution_count": 5,
     "metadata": {},
     "output_type": "execute_result"
    }
   ],
   "source": [
    "A = np.array([[.65, .35], [.15, .85]])\n",
    "pi = np.array([.8, .2])\n",
    "weights = np.array([[.7, .2, .1], [.1, .5, .4]])\n",
    "means1 = np.array([[0., 17., -4.], [5., -12., -8.], [-16., 22., 2.]])\n",
    "means2 = np.array([[-5., 3., 23.], [-12., -2., 14.], [15., -32., 0.]])\n",
    "means = np.array([means1, means2])\n",
    "covars1 = np.array([5*np.eye(3), 7*np.eye(3), np.eye(3)])\n",
    "covars2 = np.array([10*np.eye(3), 3*np.eye(3), 4*np.eye(3)])\n",
    "covars = np.array([covars1, covars2])\n",
    "gmmhmm = [A, weights, means, covars, pi]\n",
    "sample_gmmhmm(gmmhmm,10)"
   ]
  },
  {
   "cell_type": "markdown",
   "metadata": {},
   "source": [
    "# Problem 2"
   ]
  },
  {
   "cell_type": "code",
   "execution_count": 33,
   "metadata": {
    "collapsed": false
   },
   "outputs": [],
   "source": [
    "names = [\"Biology\",\"Mathematics\",\"PoliticalScience\",\n",
    "         \"Psychology\",\"Statistics\",]\n",
    "mfccs = [[] for i in range(len(names))]\n",
    "for i,name in enumerate(names):\n",
    "    for file in glob.glob(\"wavs/{} (*).wav\".format(name)):\n",
    "        mfccs[i].append(MFCC.extract(read(file)[1]))"
   ]
  },
  {
   "cell_type": "markdown",
   "metadata": {},
   "source": [
    "# Problem 3"
   ]
  },
  {
   "cell_type": "code",
   "execution_count": 37,
   "metadata": {
    "collapsed": false
   },
   "outputs": [],
   "source": [
    "samples = [[mfccs[i][j] for j in range(20)] \n",
    "                       for i in range(len(names))]\n",
    "tests = [[mfccs[i][j] for j in range(20,30)] \n",
    "                       for i in range(len(names))]"
   ]
  },
  {
   "cell_type": "code",
   "execution_count": 35,
   "metadata": {
    "collapsed": false
   },
   "outputs": [],
   "source": [
    "def initialize(N):\n",
    "    pi = np.random.rand(N)\n",
    "    pi /= pi.sum()\n",
    "    A = np.random.rand(N,N)\n",
    "    for i in range(N):\n",
    "        A[i] /= A[i].sum()\n",
    "    return pi,A"
   ]
  },
  {
   "cell_type": "code",
   "execution_count": null,
   "metadata": {
    "collapsed": true
   },
   "outputs": [],
   "source": [
    "import gmmhmm\n",
    "\n",
    "models = []\n",
    "for i in range(len(samples)):\n",
    "    best_log = -np.infty\n",
    "    best_model = None\n",
    "    for j in xrange(10):\n",
    "        startprob, transmat = initialize(5)\n",
    "        model = gmmhmm.GMMHMM(n_components=5, n_mix=3, \n",
    "            transmat=transmat, startprob=startprob, cvtype='diag')\n",
    "        # these values for covars_prior and var should work well for this problem\n",
    "        model.covars_prior = 0.01\n",
    "        model.fit(samples[i], init_params='mc', var=0.1)\n",
    "        if model.logprob > best_log:\n",
    "            best_log = model.logprob\n",
    "            best_model = model\n",
    "    models.append(best_model)\n",
    "pickle.dump(models,open(\"models.pickle\",\"wb\"))"
   ]
  },
  {
   "cell_type": "markdown",
   "metadata": {
    "collapsed": true
   },
   "source": [
    "Test how well it did"
   ]
  },
  {
   "cell_type": "code",
   "execution_count": 75,
   "metadata": {
    "collapsed": false
   },
   "outputs": [
    {
     "name": "stdout",
     "output_type": "stream",
     "text": [
      "[[ 0.  3.  0.  0.  1.  0.  0.  0.  0.  0.]\n",
      " [ 1.  1.  1.  1.  1.  1.  1.  1.  1.  1.]\n",
      " [ 2.  2.  2.  2.  2.  2.  2.  2.  2.  2.]\n",
      " [ 3.  3.  3.  3.  3.  3.  3.  3.  3.  3.]\n",
      " [ 4.  4.  4.  4.  4.  4.  4.  4.  4.  4.]]\n",
      "{'Mathematics': 1.0, 'Biology': 0.80000000000000004, 'Statistics': 1.0, 'Psychology': 1.0, 'PoliticalScience': 1.0}\n"
     ]
    }
   ],
   "source": [
    "scores = np.empty((len(tests),10,len(models)))\n",
    "bests = np.empty((len(tests),10))\n",
    "for i in xrange(len(tests)):\n",
    "    for j in range(10):\n",
    "        for k in xrange(len(models)):\n",
    "            scores[i,j,k] = models[k].score(tests[i][j])\n",
    "        bests[i,j] = np.argmax(scores[i,j,:])\n",
    "\n",
    "\n",
    "accuracies = np.empty(len(names))\n",
    "for i in range(len(names)):\n",
    "    accuracies[i] = np.sum(bests[i] == i)/10.\n",
    "d = {n:a for (n,a) in zip(names,accuracies)}\n",
    "print bests\n",
    "print d"
   ]
  },
  {
   "cell_type": "markdown",
   "metadata": {},
   "source": [
    "Biology had bad accuracy, everything else will be good"
   ]
  }
 ],
 "metadata": {
  "kernelspec": {
   "display_name": "Python 2",
   "language": "python2",
   "name": "python2"
  },
  "language_info": {
   "codemirror_mode": {
    "name": "ipython",
    "version": 2
   },
   "file_extension": ".py",
   "mimetype": "text/x-python",
   "name": "python",
   "nbconvert_exporter": "python",
   "pygments_lexer": "ipython2",
   "version": "2.7.11"
  }
 },
 "nbformat": 4,
 "nbformat_minor": 0
}
