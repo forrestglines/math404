{
 "cells": [
  {
   "cell_type": "code",
   "execution_count": 2,
   "metadata": {
    "collapsed": true
   },
   "outputs": [],
   "source": [
    "import numpy as np\n",
    "from scipy.linalg import norm\n",
    "from sklearn.datasets import load_iris\n",
    "import matplotlib.pyplot as plt\n",
    "%matplotlib inline\n",
    "import pandas as pd"
   ]
  },
  {
   "cell_type": "markdown",
   "metadata": {},
   "source": [
    "## Prob 1"
   ]
  },
  {
   "cell_type": "code",
   "execution_count": 3,
   "metadata": {
    "collapsed": true
   },
   "outputs": [],
   "source": [
    "def k_neighborhood(data,x,k):\n",
    "    sort = data[np.argsort(norm(data-x,axis=1))]\n",
    "    return sort[:k]"
   ]
  },
  {
   "cell_type": "markdown",
   "metadata": {},
   "source": [
    "## Prob 2"
   ]
  },
  {
   "cell_type": "code",
   "execution_count": 4,
   "metadata": {
    "collapsed": true
   },
   "outputs": [],
   "source": [
    "def knn_label(data,labels,x,k):\n",
    "    classes = np.unique(labels)\n",
    "    sort = data[np.argsort(norm(data-x,axis=1))][:k]\n",
    "    votes = np.array([np.sum(labels[sort] == c) for c in classes])\n",
    "    return classes[votes.argmax()]"
   ]
  },
  {
   "cell_type": "markdown",
   "metadata": {},
   "source": [
    "## Prob 3"
   ]
  },
  {
   "cell_type": "code",
   "execution_count": 5,
   "metadata": {
    "collapsed": false
   },
   "outputs": [],
   "source": [
    "class KNN:\n",
    "    def __init__(self,train,trainLabels):\n",
    "        self.classes = np.unique(trainLabels)\n",
    "        self.train = train\n",
    "        self.trainLabels = trainLabels\n",
    "    def classify(self,test,k):\n",
    "        testLabels = np.empty(test.shape[0])\n",
    "        for i,t in enumerate(test):\n",
    "            sort = np.argsort(norm(self.train-t,axis=1))[:k]\n",
    "            votes = np.array([np.sum(self.trainLabels[sort] == c) \n",
    "                              for c in self.classes])\n",
    "            #import pdb;pdb.set_trace()\n",
    "            testLabels[i] = self.classes[votes.argmax()]\n",
    "            \n",
    "        return testLabels\n"
   ]
  },
  {
   "cell_type": "code",
   "execution_count": 6,
   "metadata": {
    "collapsed": false
   },
   "outputs": [],
   "source": [
    "data = load_iris()[\"data\"]\n",
    "labels = load_iris()[\"target\"]"
   ]
  },
  {
   "cell_type": "code",
   "execution_count": 7,
   "metadata": {
    "collapsed": false
   },
   "outputs": [
    {
     "data": {
      "image/png": "[encoded data removed]",
      "text/plain": [
       "<matplotlib.figure.Figure at 0x7fe192c6ef90>"
      ]
     },
     "metadata": {},
     "output_type": "display_data"
    }
   ],
   "source": [
    "ks = np.arange(1,30,2)\n",
    "accuracies = np.zeros(ks.size)\n",
    "\n",
    "for j in xrange(20):\n",
    "    sort = np.argsort(np.random.rand(data.shape[0]))\n",
    "    data1 = data[sort]\n",
    "    labels1 = labels[sort]\n",
    "    \n",
    "    train = data1[:int(data.shape[0]*.8)]\n",
    "    trainLabels = labels1[:int(data.shape[0]*.8)]\n",
    "    test = data1[int(data.shape[0]*.8):]\n",
    "    testLabels = labels1[int(data.shape[0]*.8):]\n",
    "    \n",
    "    for i,k in enumerate(ks):\n",
    "        knn = KNN(train,trainLabels)\n",
    "        labs = knn.classify(test,k)\n",
    "        accuracies[i] += np.sum(labs == testLabels)/(testLabels.size*1.)\n",
    "plt.plot(ks,accuracies/20.)\n",
    "plt.show()"
   ]
  },
  {
   "cell_type": "markdown",
   "metadata": {},
   "source": [
    "## Prob 4"
   ]
  },
  {
   "cell_type": "code",
   "execution_count": 8,
   "metadata": {
    "collapsed": false
   },
   "outputs": [],
   "source": [
    "import cvxopt\n",
    "import numpy as np\n",
    "from scipy.linalg import norm\n",
    "from sklearn.datasets import load_iris\n",
    "import matplotlib.pyplot as plt\n",
    "import pandas as pd\n",
    "import scipy.linalg as la\n",
    "cvxopt.solvers.options['show_progress']=False\n",
    "class SVM:\n",
    "    def __init__(self,X,Y):\n",
    "        self.X = X\n",
    "        self.Y = Y\n",
    "        self.k = None\n",
    "        \n",
    "    def setKernel(self,kernelType,a=0,d=1,gamma=1.0,r=0):\n",
    "        if kernelType == 0:\n",
    "            self.k = lambda x,y: (x.T.dot(y)+a)**d\n",
    "        elif kernelType == 1:\n",
    "            self.k = lambda x,y:np.exp(-gamma*la.norm(x-y)**2.)\n",
    "        else:\n",
    "            self.k = lambda x,y: np.tanh(x.T.dot(y) + r)\n",
    "\n",
    "    def train(self):\n",
    "        n_samples = self.X.shape[0]\n",
    "        K = np.zeros((n_samples,n_samples))\n",
    "        for i in xrange(n_samples):\n",
    "            for j in xrange(n_samples):\n",
    "                K[i,j] = self.k(self.X[i,:], self.X[j,:])\n",
    "        Q = cvxopt.matrix(np.outer(self.Y, self.Y) * K)\n",
    "        q = cvxopt.matrix(np.ones(n_samples) * -1)\n",
    "        A = cvxopt.matrix(self.Y, (1, n_samples),tc='d')\n",
    "        b = cvxopt.matrix(0.0)\n",
    "        G = cvxopt.matrix(np.diag(np.ones(n_samples) * -1))\n",
    "        h = cvxopt.matrix(np.zeros(n_samples))\n",
    "        cvxopt.solvers.options['show_progess']=False\n",
    "        solution = cvxopt.solvers.qp(Q, q, G, h, A, b)\n",
    "                                     \n",
    "        self.a = np.ravel(solution['x'])\n",
    "    def classify(self,x):\n",
    "        f = 0\n",
    "        n_samples = self.X.shape[0]\n",
    "        K = np.zeros((n_samples,n_samples))\n",
    "        for i in xrange(n_samples):\n",
    "            f += self.a[i]*self.Y[i]*self.k(x,self.X[i,:])\n",
    "        return np.sign(f)"
   ]
  },
  {
   "cell_type": "markdown",
   "metadata": {
    "collapsed": true
   },
   "source": [
    "## Prob 5"
   ]
  },
  {
   "cell_type": "code",
   "execution_count": 9,
   "metadata": {
    "collapsed": false
   },
   "outputs": [],
   "source": [
    "data = pd.read_csv(\"cancer.csv\")\n",
    "data[\"bare-nuclei\"] = pd.to_numeric(data[\"bare-nuclei\"],errors='coerce')\n",
    "data= data.dropna()\n",
    "\n",
    "allX = data[data.columns[1:-1]]\n",
    "allY = data[\"cancerous\"]\n",
    "\n",
    "num = int(len(allY)*.8)\n",
    "\n",
    "trainX = data[data.columns[1:-1]][:num]\n",
    "trainY = data[\"cancerous\"][:num]\n",
    "\n",
    "testX = data[data.columns[1:-1]][num:]\n",
    "testY = data[\"cancerous\"][num:]"
   ]
  },
  {
   "cell_type": "markdown",
   "metadata": {},
   "source": [
    "### Polynomial\n",
    "Did ok, but not great"
   ]
  },
  {
   "cell_type": "code",
   "execution_count": 10,
   "metadata": {
    "collapsed": false
   },
   "outputs": [
    {
     "name": "stdout",
     "output_type": "stream",
     "text": [
      "Terminated (singular KKT matrix).\n",
      "Terminated (singular KKT matrix).\n",
      "Terminated (singular KKT matrix).\n",
      "Terminated (singular KKT matrix).\n",
      "Terminated (singular KKT matrix).\n",
      "Terminated (singular KKT matrix).\n",
      "Terminated (singular KKT matrix).\n",
      "Terminated (singular KKT matrix).\n",
      "Terminated (singular KKT matrix).\n",
      "Terminated (singular KKT matrix).\n",
      "Terminated (singular KKT matrix).\n",
      "Terminated (singular KKT matrix).\n",
      "Terminated (singular KKT matrix).\n",
      "Terminated (singular KKT matrix).\n",
      "Terminated (singular KKT matrix).\n",
      "Terminated (singular KKT matrix).\n",
      "Terminated (singular KKT matrix).\n",
      "Terminated (singular KKT matrix).\n",
      "Terminated (singular KKT matrix).\n",
      "Terminated (singular KKT matrix).\n",
      "Terminated (singular KKT matrix).\n",
      "Terminated (singular KKT matrix).\n",
      "Terminated (singular KKT matrix).\n",
      "Terminated (singular KKT matrix).\n",
      "Terminated (singular KKT matrix).\n",
      "Terminated (singular KKT matrix).\n",
      "Terminated (singular KKT matrix).\n",
      "Terminated (singular KKT matrix).\n",
      "Terminated (singular KKT matrix).\n",
      "Terminated (singular KKT matrix).\n",
      "Terminated (singular KKT matrix).\n",
      "Terminated (singular KKT matrix).\n",
      "Terminated (singular KKT matrix).\n",
      "Terminated (singular KKT matrix).\n",
      "Terminated (singular KKT matrix).\n",
      "Terminated (singular KKT matrix).\n",
      "Terminated (singular KKT matrix).\n",
      "Terminated (singular KKT matrix).\n",
      "Terminated (singular KKT matrix).\n",
      "Terminated (singular KKT matrix).\n"
     ]
    }
   ],
   "source": [
    "As = np.linspace(-5,5,10)\n",
    "ds = np.linspace(-5,5,10)\n",
    "accuracies = np.empty((10,10))\n",
    "for i,a in enumerate(As):\n",
    "    for j,d in enumerate(ds):\n",
    "        try:\n",
    "            svm = SVM(trainX.values,trainY.values)\n",
    "            svm.setKernel(0,a=a,d=d)\n",
    "            svm.train()\n",
    "\n",
    "            labs = testX.apply(svm.classify,axis=1)\n",
    "\n",
    "            labs.to_frame()\n",
    "            lv = labs.values\n",
    "            tv = testY.values.reshape(lv.shape[0])\n",
    "            accuracies[i,j] = (tv == lv).sum()/(1.*len(tv))\n",
    "        except:\n",
    "            accuracies[i,j] = 0\n",
    "        #print accuracies[i,j]"
   ]
  },
  {
   "cell_type": "code",
   "execution_count": 11,
   "metadata": {
    "collapsed": false
   },
   "outputs": [
    {
     "name": "stdout",
     "output_type": "stream",
     "text": [
      "a=  -2.77777777778  d=  -5.0\n",
      "0.759124087591\n"
     ]
    }
   ],
   "source": [
    "best = np.argmax(accuracies)\n",
    "print \"a= \",As[best//10], \" d= \",ds[best%10]\n",
    "print accuracies[best//10,best%10]"
   ]
  },
  {
   "cell_type": "markdown",
   "metadata": {},
   "source": [
    "### Radial Basis Function\n",
    "This performed awesomely"
   ]
  },
  {
   "cell_type": "code",
   "execution_count": 12,
   "metadata": {
    "collapsed": false
   },
   "outputs": [
    {
     "name": "stdout",
     "output_type": "stream",
     "text": [
      "gamma=  0.555555555556\n",
      "0.992700729927\n"
     ]
    }
   ],
   "source": [
    "gammas = np.linspace(-5,5,10)\n",
    "accuracies = np.empty(10)\n",
    "for i,gamma in enumerate(gammas):\n",
    "    try:\n",
    "        svm = SVM(trainX.values,trainY.values)\n",
    "        svm.setKernel(1,gamma=gamma)\n",
    "        svm.train()\n",
    "\n",
    "        labs = testX.apply(svm.classify,axis=1)\n",
    "\n",
    "        labs.to_frame()\n",
    "        lv = labs.values\n",
    "        tv = testY.values.reshape(lv.shape[0])\n",
    "        accuracies[i] = (tv == lv).sum()/(1.*len(tv))\n",
    "    except Exception as e:\n",
    "        accuracies[i] = 0\n",
    "best = np.argmax(accuracies)\n",
    "print \"gamma= \",gammas[best]\n",
    "print accuracies[best]"
   ]
  },
  {
   "cell_type": "markdown",
   "metadata": {},
   "source": [
    "### Sigmoid\n",
    "This one didn't work that well"
   ]
  },
  {
   "cell_type": "code",
   "execution_count": 13,
   "metadata": {
    "collapsed": false
   },
   "outputs": [
    {
     "name": "stdout",
     "output_type": "stream",
     "text": [
      "Terminated (singular KKT matrix).\n",
      "Terminated (singular KKT matrix).\n",
      "Terminated (singular KKT matrix).\n",
      "Terminated (singular KKT matrix).\n",
      "Terminated (singular KKT matrix).\n",
      "Terminated (singular KKT matrix).\n",
      "Terminated (singular KKT matrix).\n",
      "Terminated (singular KKT matrix).\n",
      "Terminated (singular KKT matrix).\n",
      "Terminated (singular KKT matrix).\n",
      "r=  3.88888888889\n",
      "0.510948905109\n"
     ]
    }
   ],
   "source": [
    "rs = np.linspace(-5,5,10)\n",
    "accuracies = np.empty(10)\n",
    "for i,r in enumerate(rs):\n",
    "    try:\n",
    "        svm = SVM(trainX.values,trainY.values)\n",
    "        svm.setKernel(2,r=r)\n",
    "        svm.train()\n",
    "\n",
    "        labs = testX.apply(svm.classify,axis=1)\n",
    "\n",
    "        labs.to_frame()\n",
    "        lv = labs.values\n",
    "        tv = testY.values.reshape(lv.shape[0])\n",
    "        accuracies[i] = (tv == lv).sum()/(1.*len(tv))\n",
    "    except Exception as e:\n",
    "        accuracies[i] = 0\n",
    "best = np.argmax(accuracies)\n",
    "print \"r= \",rs[best]\n",
    "print accuracies[best]"
   ]
  }
 ],
 "metadata": {
  "kernelspec": {
   "display_name": "Python 2",
   "language": "python2",
   "name": "python2"
  },
  "language_info": {
   "codemirror_mode": {
    "name": "ipython",
    "version": 2
   },
   "file_extension": ".py",
   "mimetype": "text/x-python",
   "name": "python",
   "nbconvert_exporter": "python",
   "pygments_lexer": "ipython2",
   "version": "2.7.11"
  }
 },
 "nbformat": 4,
 "nbformat_minor": 0
}
