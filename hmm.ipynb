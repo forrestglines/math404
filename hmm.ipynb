{
 "cells": [
  {
   "cell_type": "code",
   "execution_count": 2,
   "metadata": {
    "collapsed": false
   },
   "outputs": [
    {
     "name": "stdout",
     "output_type": "stream",
     "text": [
      "Automatic pdb calling has been turned ON\n"
     ]
    }
   ],
   "source": [
    "import numpy as np\n",
    "import math\n",
    "import itertools\n",
    "%pdb on"
   ]
  },
  {
   "cell_type": "markdown",
   "metadata": {},
   "source": [
    "# Problem 1\n",
    "## a) Naive implementation\n"
   ]
  },
  {
   "cell_type": "code",
   "execution_count": 3,
   "metadata": {
    "collapsed": false
   },
   "outputs": [
    {
     "name": "stdout",
     "output_type": "stream",
     "text": [
      "HHH 0.0\n",
      "HHC 0.0\n",
      "HCH 0.0\n",
      "HCC 0.0\n",
      "CHH 0.0028\n",
      "CHC 0.00024\n",
      "CCH 0.0168\n",
      "CCC 0.00504\n",
      "Total:  0.02488\n"
     ]
    }
   ],
   "source": [
    "A = np.array([[.7, .3], [.4, .6]])\n",
    "B = np.array([[.1, .4, .5], [.7, .2, .1]])\n",
    "obs = np.array([1, 0, 2])\n",
    "pi = np.array([0., 1.])\n",
    "\n",
    "T = 3\n",
    "N = 2\n",
    "\n",
    "total  = 0\n",
    "for l in itertools.product(xrange(N),repeat=T):\n",
    "    prob = pi[l[0]]*B[l[0],obs[0]]\n",
    "    for i in range(1,T):\n",
    "        prob *= A[l[i-1],l[i]]*B[l[i],obs[i]]\n",
    "    total += prob\n",
    "    temp = [ 'H' if item == 0 else 'C' for item in l]\n",
    "    print \"\".join(temp),prob\n",
    "print \"Total: \",total"
   ]
  },
  {
   "cell_type": "markdown",
   "metadata": {},
   "source": [
    "## b) Better Implementation using $\\alpha$ pass"
   ]
  },
  {
   "cell_type": "code",
   "execution_count": 4,
   "metadata": {
    "collapsed": false
   },
   "outputs": [
    {
     "name": "stdout",
     "output_type": "stream",
     "text": [
      "[[ 0.       0.2    ]\n",
      " [ 0.008    0.084  ]\n",
      " [ 0.0196   0.00528]]\n",
      "Total: 0.02488\n"
     ]
    }
   ],
   "source": [
    "#Compute a_0 (i)\n",
    "alpha = np.zeros((T,N))\n",
    "alpha[0] = pi*B[:,obs[0]]\n",
    "\n",
    "#The alpha pass\n",
    "for t in xrange(1,T):\n",
    "    alpha[t] = np.dot(alpha[t-1],A)*B[:,obs[t]]\n",
    "print alpha\n",
    "print \"Total:\",alpha[-1].sum()"
   ]
  },
  {
   "cell_type": "markdown",
   "metadata": {},
   "source": [
    "## c)\n",
    "Part a) was brute force, part b) was a smarter way to calculate $P(\\mathcal{O}|\\lambda)$\n",
    "\n",
    "## d)\n",
    "Part a) has $N^T (3T - 2)$ work function, part b) has $(T-1)(N-1)N^2+N$"
   ]
  },
  {
   "cell_type": "markdown",
   "metadata": {
    "collapsed": false
   },
   "source": [
    "# Problem 2\n",
    "## a) Best hidden state sequence in dynamic programming sense\n",
    "Since $P(\\mathcal{O}|\\text{CCH}) = 0.0168$ is the largest, CCH is the most likely in the dynamic programming sense\n",
    "## b) Best in HMM sense"
   ]
  },
  {
   "cell_type": "code",
   "execution_count": 5,
   "metadata": {
    "collapsed": false
   },
   "outputs": [
    {
     "name": "stdout",
     "output_type": "stream",
     "text": [
      "Best:  CCH\n"
     ]
    }
   ],
   "source": [
    "beta = np.zeros((T,N))\n",
    "beta[-1] = 1./A.shape[0]\n",
    "for t in xrange(T-2,-1,-1):\n",
    "    beta[t] = np.dot(B[:,obs[t+1]]*beta[t+1],A)\n",
    "gamma = alpha*beta\n",
    "l = ['H' if np.argmax(i) == 0 else 'C' for i in gamma]\n",
    "print \"Best: \",\"\".join(l)"
   ]
  },
  {
   "cell_type": "code",
   "execution_count": 6,
   "metadata": {
    "collapsed": false
   },
   "outputs": [
    {
     "name": "stdout",
     "output_type": "stream",
     "text": [
      "Probability of SSSS: 0.0633472\n",
      "Probability of SSSM: 0.0408856\n",
      "Probability of SSSL: 0.0388472\n",
      "Probability of SSMS: 0.032368\n",
      "Probability of SSMM: 0.029008\n",
      "Probability of SSML: 0.030464\n",
      "Probability of SSLS: 0.0277088\n",
      "Probability of SSLM: 0.0284984\n",
      "Probability of SSLL: 0.0308728\n",
      "Probability of SMSS: 0.030184\n",
      "Probability of SMSM: 0.020272\n",
      "Probability of SMSL: 0.019544\n",
      "Probability of SMMS: 0.020272\n",
      "Probability of SMMM: 0.019936\n",
      "Probability of SMML: 0.021392\n",
      "Probability of SMLS: 0.019544\n",
      "Probability of SMLM: 0.021392\n",
      "Probability of SMLL: 0.023464\n",
      "Probability of SLSS: 0.0248528\n",
      "Probability of SLSM: 0.0170744\n",
      "Probability of SLSL: 0.0165928\n",
      "Probability of SLMS: 0.01904\n",
      "Probability of SLMM: 0.019376\n",
      "Probability of SLML: 0.020944\n",
      "Probability of SLLS: 0.0191632\n",
      "Probability of SLLM: 0.0213976\n",
      "Probability of SLLL: 0.0235592\n",
      "Probability of MSSS: 0.0180992\n",
      "Probability of MSSM: 0.0116816\n",
      "Probability of MSSL: 0.0110992\n",
      "Probability of MSMS: 0.009248\n",
      "Probability of MSMM: 0.008288\n",
      "Probability of MSML: 0.008704\n",
      "Probability of MSLS: 0.0079168\n",
      "Probability of MSLM: 0.0081424\n",
      "Probability of MSLL: 0.0088208\n",
      "Probability of MMSS: 0.008624\n",
      "Probability of MMSM: 0.005792\n",
      "Probability of MMSL: 0.005584\n",
      "Probability of MMMS: 0.005792\n",
      "Probability of MMMM: 0.005696\n",
      "Probability of MMML: 0.006112\n",
      "Probability of MMLS: 0.005584\n",
      "Probability of MMLM: 0.006112\n",
      "Probability of MMLL: 0.006704\n",
      "Probability of MLSS: 0.0071008\n",
      "Probability of MLSM: 0.0048784\n",
      "Probability of MLSL: 0.0047408\n",
      "Probability of MLMS: 0.00544\n",
      "Probability of MLMM: 0.005536\n",
      "Probability of MLML: 0.005984\n",
      "Probability of MLLS: 0.0054752\n",
      "Probability of MLLM: 0.0061136\n",
      "Probability of MLLL: 0.0067312\n",
      "Probability of LSSS: 0.0090496\n",
      "Probability of LSSM: 0.0058408\n",
      "Probability of LSSL: 0.0055496\n",
      "Probability of LSMS: 0.004624\n",
      "Probability of LSMM: 0.004144\n",
      "Probability of LSML: 0.004352\n",
      "Probability of LSLS: 0.0039584\n",
      "Probability of LSLM: 0.0040712\n",
      "Probability of LSLL: 0.0044104\n",
      "Probability of LMSS: 0.004312\n",
      "Probability of LMSM: 0.002896\n",
      "Probability of LMSL: 0.002792\n",
      "Probability of LMMS: 0.002896\n",
      "Probability of LMMM: 0.002848\n",
      "Probability of LMML: 0.003056\n",
      "Probability of LMLS: 0.002792\n",
      "Probability of LMLM: 0.003056\n",
      "Probability of LMLL: 0.003352\n",
      "Probability of LLSS: 0.0035504\n",
      "Probability of LLSM: 0.0024392\n",
      "Probability of LLSL: 0.0023704\n",
      "Probability of LLMS: 0.00272\n",
      "Probability of LLMM: 0.002768\n",
      "Probability of LLML: 0.002992\n",
      "Probability of LLLS: 0.0027376\n",
      "Probability of LLLM: 0.0030568\n",
      "Probability of LLLL: 0.0033656\n",
      "Total:  1.0\n"
     ]
    }
   ],
   "source": [
    "total = 0\n",
    "T = 4\n",
    "for obs in itertools.product(xrange(3),repeat=4):\n",
    "    sub = 0\n",
    "    for l in itertools.product(xrange(N),repeat=T):\n",
    "        prob = pi[l[0]]*B[l[0],obs[0]]\n",
    "        for i in range(1,T):\n",
    "            prob *= A[l[i-1],l[i]]*B[l[i],obs[i]]\n",
    "        sub += prob\n",
    "    temp = [ 'S' if item == 0 else 'M' if item == 1 else 'L' for item in obs]\n",
    "    print \"Probability of {}: {}\".format(\"\".join(temp),sub)\n",
    "    total += sub\n",
    "print \"Total: \",total"
   ]
  },
  {
   "cell_type": "code",
   "execution_count": 7,
   "metadata": {
    "collapsed": false
   },
   "outputs": [
    {
     "name": "stdout",
     "output_type": "stream",
     "text": [
      "Probability of SSSS: 0.0633472\n",
      "Probability of SSSM: 0.0408856\n",
      "Probability of SSSL: 0.0388472\n",
      "Probability of SSMS: 0.032368\n",
      "Probability of SSMM: 0.029008\n",
      "Probability of SSML: 0.030464\n",
      "Probability of SSLS: 0.0277088\n",
      "Probability of SSLM: 0.0284984\n",
      "Probability of SSLL: 0.0308728\n",
      "Probability of SMSS: 0.030184\n",
      "Probability of SMSM: 0.020272\n",
      "Probability of SMSL: 0.019544\n",
      "Probability of SMMS: 0.020272\n",
      "Probability of SMMM: 0.019936\n",
      "Probability of SMML: 0.021392\n",
      "Probability of SMLS: 0.019544\n",
      "Probability of SMLM: 0.021392\n",
      "Probability of SMLL: 0.023464\n",
      "Probability of SLSS: 0.0248528\n",
      "Probability of SLSM: 0.0170744\n",
      "Probability of SLSL: 0.0165928\n",
      "Probability of SLMS: 0.01904\n",
      "Probability of SLMM: 0.019376\n",
      "Probability of SLML: 0.020944\n",
      "Probability of SLLS: 0.0191632\n",
      "Probability of SLLM: 0.0213976\n",
      "Probability of SLLL: 0.0235592\n",
      "Probability of MSSS: 0.0180992\n",
      "Probability of MSSM: 0.0116816\n",
      "Probability of MSSL: 0.0110992\n",
      "Probability of MSMS: 0.009248\n",
      "Probability of MSMM: 0.008288\n",
      "Probability of MSML: 0.008704\n",
      "Probability of MSLS: 0.0079168\n",
      "Probability of MSLM: 0.0081424\n",
      "Probability of MSLL: 0.0088208\n",
      "Probability of MMSS: 0.008624\n",
      "Probability of MMSM: 0.005792\n",
      "Probability of MMSL: 0.005584\n",
      "Probability of MMMS: 0.005792\n",
      "Probability of MMMM: 0.005696\n",
      "Probability of MMML: 0.006112\n",
      "Probability of MMLS: 0.005584\n",
      "Probability of MMLM: 0.006112\n",
      "Probability of MMLL: 0.006704\n",
      "Probability of MLSS: 0.0071008\n",
      "Probability of MLSM: 0.0048784\n",
      "Probability of MLSL: 0.0047408\n",
      "Probability of MLMS: 0.00544\n",
      "Probability of MLMM: 0.005536\n",
      "Probability of MLML: 0.005984\n",
      "Probability of MLLS: 0.0054752\n",
      "Probability of MLLM: 0.0061136\n",
      "Probability of MLLL: 0.0067312\n",
      "Probability of LSSS: 0.0090496\n",
      "Probability of LSSM: 0.0058408\n",
      "Probability of LSSL: 0.0055496\n",
      "Probability of LSMS: 0.004624\n",
      "Probability of LSMM: 0.004144\n",
      "Probability of LSML: 0.004352\n",
      "Probability of LSLS: 0.0039584\n",
      "Probability of LSLM: 0.0040712\n",
      "Probability of LSLL: 0.0044104\n",
      "Probability of LMSS: 0.004312\n",
      "Probability of LMSM: 0.002896\n",
      "Probability of LMSL: 0.002792\n",
      "Probability of LMMS: 0.002896\n",
      "Probability of LMMM: 0.002848\n",
      "Probability of LMML: 0.003056\n",
      "Probability of LMLS: 0.002792\n",
      "Probability of LMLM: 0.003056\n",
      "Probability of LMLL: 0.003352\n",
      "Probability of LLSS: 0.0035504\n",
      "Probability of LLSM: 0.0024392\n",
      "Probability of LLSL: 0.0023704\n",
      "Probability of LLMS: 0.00272\n",
      "Probability of LLMM: 0.002768\n",
      "Probability of LLML: 0.002992\n",
      "Probability of LLLS: 0.0027376\n",
      "Probability of LLLM: 0.0030568\n",
      "Probability of LLLL: 0.0033656\n",
      "Total:  1.0\n"
     ]
    }
   ],
   "source": [
    "total = 0\n",
    "T = 4\n",
    "for obs in itertools.product(xrange(3),repeat=4):\n",
    "    #Compute a_0 (i)\n",
    "    alpha = np.zeros((T,N))\n",
    "    alpha[0] = pi*B[:,obs[0]]\n",
    "\n",
    "    #The alpha pass\n",
    "    for t in xrange(1,T):\n",
    "        alpha[t] = np.dot(alpha[t-1],A)*B[:,obs[t]]\n",
    "    sub = alpha[-1].sum()\n",
    "    temp = [ 'S' if item == 0 else 'M' if item == 1 else 'L' for item in obs]\n",
    "    print \"Probability of {}: {}\".format(\"\".join(temp),sub)\n",
    "    total += sub\n",
    "print \"Total: \",total"
   ]
  },
  {
   "cell_type": "markdown",
   "metadata": {},
   "source": [
    "# Problem 4\n",
    "\n",
    "(9)\n",
    "$$\\pi = \\frac{\\alpha_0(i) \\beta_0(i)}{P(\\mathcal{O}|\\lambda)}$$\n",
    "\n",
    "(10)\n",
    "$$a_{ij} = \\frac{\\sum_{t=0}^{T-2} \\alpha_t(i)a_{ij} b_j (\\mathcal{O}_{t+1}) \\beta_{t+1}(j)}{\\sum_{t=0}^{T-2} \\frac{\\alpha_0(i) \\beta_{t}(i)}{P(\\mathcal{O}|\\lambda)} }$$\n",
    "\n",
    "(11)\n",
    "$$b_j(k) = \\frac{\\sum_{t\\in 0,1,...T-1;\\mathcal{O}_{i=k}} \\alpha_t(i)\\beta_t(i)}{\\sum_{t=0}^{T-1} \\alpha_t(i)\\beta_t(i)}$$"
   ]
  },
  {
   "cell_type": "markdown",
   "metadata": {},
   "source": [
    "# Problem 9"
   ]
  },
  {
   "cell_type": "code",
   "execution_count": 8,
   "metadata": {
    "collapsed": true
   },
   "outputs": [],
   "source": [
    "#Load in the observations\n",
    "obs = None\n",
    "with open('brown.txt') as f:\n",
    "    data = f.read()[:50000]\n",
    "    obs = np.array([ ord(d.lower()) for d in data \n",
    "               if ord(d) == ord(' ') or \n",
    "                ( ord(d) >= ord('A') and ord(d) <= ord('Z')) or\n",
    "                ( ord(d) >= ord('a') and ord(d) <= ord('z'))])\n",
    "    \n",
    "    obs[obs == ord(' ')] = 0\n",
    "    obs[np.logical_and(obs >= ord('a'),obs <= ord('z'))] +=  -ord('a')+1 "
   ]
  },
  {
   "cell_type": "code",
   "execution_count": 95,
   "metadata": {
    "collapsed": true
   },
   "outputs": [],
   "source": [
    "def hmm(M,N,obs,A=None,B=None,pi=None,maxIters=100,ret_hist=False):\n",
    "    #init\n",
    "\n",
    "    if A is None:\n",
    "        A = np.ones((N,N))*1./N\n",
    "    if B is None:\n",
    "        B = np.ones((N,M))*1./M\n",
    "    if pi is None:\n",
    "        pi = np.ones((1,N))*1./N\n",
    "        \n",
    "    iters = 0\n",
    "    logProb = -np.inf\n",
    "    diff = np.inf\n",
    "    \n",
    "    As = [A]\n",
    "    Bs = [B]\n",
    "    pis = [pi]\n",
    "    logProbs = [1]\n",
    "    T = obs.size\n",
    "    \n",
    "    c = np.zeros(T)\n",
    "    alpha = np.zeros((T,N))\n",
    "    beta = np.zeros((T,N))\n",
    "    gammaSum = np.zeros((T,N))\n",
    "    gamma = np.zeros((T,N,N))\n",
    "    \n",
    "    while (iters < maxIters ):\n",
    "        #Alpha pass\n",
    "        #Compute a_0 (i)\n",
    "        alpha[0] = pi*B[:,obs[0]]\n",
    "        c[0] = 1./alpha[0].sum()\n",
    "\n",
    "        #Scale the a_0(i)\n",
    "        alpha[0] *= c[0]\n",
    "\n",
    "        #The alpha pass\n",
    "        for t in xrange(1,T):\n",
    "            alpha[t] = np.dot(alpha[t-1],A)*B[:,obs[t]]\n",
    "            c[t] = 1./alpha[t].sum()\n",
    "            alpha[t] *=c[t]\n",
    "            \n",
    "        #The beta pass\n",
    "        beta[-1] = 1./A.shape[0]\n",
    "        for t in xrange(T-2,-1,-1):\n",
    "            beta[t] = np.dot(B[:,obs[t+1]]*beta[t+1],A)\n",
    "            beta[t] /=beta[t].sum()\n",
    "        \n",
    "        #compute gammas\n",
    "\n",
    "        for t in xrange(0,T-1):\n",
    "            gamma[t] = alpha[t]*A.T*B[:,obs[t+1]]*beta[t+1]\n",
    "            denom = gamma[t].sum()\n",
    "            \n",
    "            gamma[t] /= denom\n",
    "            gammaSum[t] = gamma[t].sum(axis=1)\n",
    "        \n",
    "        \n",
    "        #Special case for gamma_T-1\n",
    "        denom = alpha[-1].sum()\n",
    "        gammaSum[-1] = alpha[-1]/denom\n",
    "        gammaSum[-1] = 0\n",
    "        \n",
    "        #Resetimate A,B, and pi\n",
    "        \n",
    "        #restimate pi\n",
    "        pi = gammaSum[0]\n",
    "        \n",
    "        #Restimate A\n",
    "        numer = gamma.sum(axis=0)\n",
    "        denom = gammaSum.sum(axis=0)\n",
    "        A = numer/denom\n",
    "        \n",
    "        #restimate B\n",
    "        for j in xrange(0,M):\n",
    "            numer = gammaSum[obs==j].sum(axis=0)\n",
    "            denom = gammaSum.sum(axis=0)\n",
    "            B[:,j] = numer/denom\n",
    "            \n",
    "        #compute logProb\n",
    "        oldLogProb = logProb\n",
    "        logProb = -np.log(c).sum()\n",
    "        diff = logProb - oldLogProb\n",
    "        \n",
    "        #decide to iterate\n",
    "        iters += 1\n",
    "        if ret_hist:\n",
    "            pis.append(pi)\n",
    "            As.append(A)\n",
    "            Bs.append(B)\n",
    "            logProbs.append(logProb)\n",
    "        \n",
    "    print iters\n",
    "    if ret_hist:\n",
    "        return (pis,As,Bs,logProbs)\n",
    "    else:\n",
    "        return (pi,A,B)\n",
    "    "
   ]
  },
  {
   "cell_type": "markdown",
   "metadata": {},
   "source": [
    "## a) 2 state test"
   ]
  },
  {
   "cell_type": "code",
   "execution_count": 96,
   "metadata": {
    "collapsed": true
   },
   "outputs": [],
   "source": [
    "N = 2\n",
    "M = 27\n",
    "pi = np.array((0.51316,0.48684 ))\n",
    "A = np.array(((0.47468,0.52532),(0.51656,0.48344)))\n",
    "\n",
    "pi,A,B = hmm(M,N,obs,pi=pi,A=A)"
   ]
  },
  {
   "cell_type": "markdown",
   "metadata": {
    "collapsed": false
   },
   "source": [
    "## b) 3 State test "
   ]
  },
  {
   "cell_type": "code",
   "execution_count": null,
   "metadata": {
    "collapsed": false
   },
   "outputs": [
    {
     "name": "stdout",
     "output_type": "stream",
     "text": [
      "100\n"
     ]
    },
    {
     "name": "stderr",
     "output_type": "stream",
     "text": [
      "-c:71: RuntimeWarning: invalid value encountered in divide\n",
      "-c:77: RuntimeWarning: invalid value encountered in divide\n"
     ]
    }
   ],
   "source": [
    "N = 3\n",
    "M = 27\n",
    "pi,A,B = hmm(M,N,obs)"
   ]
  },
  {
   "cell_type": "markdown",
   "metadata": {},
   "source": [
    "## c) 4 State test"
   ]
  },
  {
   "cell_type": "code",
   "execution_count": null,
   "metadata": {
    "collapsed": true
   },
   "outputs": [],
   "source": [
    "N = 4\n",
    "M = 27\n",
    "pi,A,B = hmm(M,N,obs)"
   ]
  },
  {
   "cell_type": "markdown",
   "metadata": {},
   "source": [
    "# Problem 10"
   ]
  },
  {
   "cell_type": "code",
   "execution_count": null,
   "metadata": {
    "collapsed": true
   },
   "outputs": [],
   "source": []
  }
 ],
 "metadata": {
  "kernelspec": {
   "display_name": "Python 2",
   "language": "python2",
   "name": "python2"
  },
  "language_info": {
   "codemirror_mode": {
    "name": "ipython",
    "version": 2
   },
   "file_extension": ".py",
   "mimetype": "text/x-python",
   "name": "python",
   "nbconvert_exporter": "python",
   "pygments_lexer": "ipython2",
   "version": "2.7.11"
  }
 },
 "nbformat": 4,
 "nbformat_minor": 0
}
