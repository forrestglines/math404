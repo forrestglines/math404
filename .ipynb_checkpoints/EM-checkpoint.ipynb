{
 "cells": [
  {
   "cell_type": "code",
   "execution_count": 1,
   "metadata": {
    "collapsed": true
   },
   "outputs": [],
   "source": [
    "import numpy as np\n",
    "\n",
    "#############Three Coin Example ##############\n",
    "#Coin One\n",
    "lam=.6\n",
    "#Coin Two\n",
    "p=.8\n",
    "#Coin Three\n",
    "q=.1"
   ]
  },
  {
   "cell_type": "code",
   "execution_count": 6,
   "metadata": {
    "collapsed": false
   },
   "outputs": [],
   "source": [
    "#We gegerate N trials,returning the number of Heads for each trial\n",
    "N=50\n",
    "trials=np.zeros(N)\n",
    "for x in xrange(N):\n",
    "    r=np.random.rand()\n",
    "    r2=np.random.rand(3)\n",
    "    if r<lam:\n",
    "        trials[x]=sum(r2<p)\n",
    "    else:\n",
    "        trials[x]=sum(r2<q)"
   ]
  },
  {
   "cell_type": "code",
   "execution_count": 7,
   "metadata": {
    "collapsed": false
   },
   "outputs": [
    {
     "name": "stdout",
     "output_type": "stream",
     "text": [
      "[ 0.19  0.    0.68]\n"
     ]
    }
   ],
   "source": [
    "#We now choose an initial Guess\n",
    "guess=[.7,.9,.2]\n",
    "niters=100\n",
    "mu=np.zeros(N)\n",
    "#We update our guess with every iteration\n",
    "for i in xrange(niters):\n",
    "    for x in xrange(N):\n",
    "        mu[x]=float(guess[0]*(guess[1]**trials[x])*((1-guess[1])**(3-trials[x])))/((guess[0]*(guess[1]**trials[x])*((1-guess[1])**(3-trials[x])))+((1-guess[0])*(guess[2]**trials[x])*((1-guess[2])**(3-trials[x]))))\n",
    "        guess[0]=(1./N)*sum(mu)\n",
    "        guess[1]=(1./sum(mu))*(sum(trials*mu))/3.\n",
    "        guess[2]=(1./sum(1-mu))*(sum(trials*(1-mu)))/3.\n",
    "        \n",
    "#Compare to true values\n",
    "#[.6,.8,.2]\n",
    "print np.round(guess,2)"
   ]
  },
  {
   "cell_type": "code",
   "execution_count": 2,
   "metadata": {
    "collapsed": false,
    "scrolled": true
   },
   "outputs": [
    {
     "data": {
      "image/png": "[encoded data removed]",
      "text/plain": [
       "<matplotlib.figure.Figure at 0x7f3afc25e410>"
      ]
     },
     "metadata": {},
     "output_type": "display_data"
    }
   ],
   "source": [
    "##### GAUSSIAN MIXTURE MODEL #####\n",
    "\n",
    "\n",
    "from matplotlib import pyplot as plt\n",
    "%matplotlib inline\n",
    "#We choose 3 gaussian distriubtions, with corresponding weights...\n",
    "\n",
    "mu1=8.\n",
    "sig1=1.5\n",
    "lam1=.5\n",
    "\n",
    "mu2=4.\n",
    "sig2=1.\n",
    "lam2=.3\n",
    "\n",
    "mu3=0.\n",
    "sig3=2.\n",
    "lam3=.2\n",
    "\n",
    "X=np.linspace(-6,16,1000)\n",
    "\n",
    "Y1=np.array([(lam1/(sig1*np.sqrt(2*np.pi)))*np.exp(-(x-mu1)**2/(2*sig1**2)) for x in X])\n",
    "Y2=np.array([(lam2/(sig2*np.sqrt(2*np.pi)))*np.exp(-(x-mu2)**2/(2*sig2**2)) for x in X])\n",
    "Y3=np.array([(lam3/(sig3*np.sqrt(2*np.pi)))*np.exp(-(x-mu3)**2/(2*sig3**2)) for x in X])\n",
    "\n",
    "\n",
    "plt.plot(X,Y1+Y2+Y3)\n",
    "plt.show()"
   ]
  },
  {
   "cell_type": "code",
   "execution_count": 3,
   "metadata": {
    "collapsed": false,
    "scrolled": true
   },
   "outputs": [],
   "source": [
    "#We take N samples from this distribution\n",
    "N=500\n",
    "trials=np.zeros(N)\n",
    "\n",
    "for x in xrange(N):\n",
    "    r=np.random.rand()\n",
    "    if r<lam1:\n",
    "        trials[x]=np.random.normal(mu1,sig1)\n",
    "    elif r<lam1+lam2:\n",
    "        trials[x]=np.random.normal(mu2,sig2)\n",
    "    else:\n",
    "        trials[x]=np.random.normal(mu3,sig3)"
   ]
  },
  {
   "cell_type": "code",
   "execution_count": 4,
   "metadata": {
    "collapsed": false
   },
   "outputs": [
    {
     "name": "stdout",
     "output_type": "stream",
     "text": [
      "> <ipython-input-4-7eea92932c8b>(17)solve()\n",
      "-> w1/=s\n",
      "(Pdb) quit\n"
     ]
    },
    {
     "ename": "BdbQuit",
     "evalue": "",
     "output_type": "error",
     "traceback": [
      "\u001b[1;31m---------------------------------------------------------------------------\u001b[0m",
      "\u001b[1;31mBdbQuit\u001b[0m                                   Traceback (most recent call last)",
      "\u001b[1;32m<ipython-input-4-7eea92932c8b>\u001b[0m in \u001b[0;36m<module>\u001b[1;34m()\u001b[0m\n\u001b[0;32m     40\u001b[0m  [.2, 0. ,.9]]\n\u001b[0;32m     41\u001b[0m \"\"\"\n\u001b[1;32m---> 42\u001b[1;33m \u001b[0msol\u001b[0m\u001b[1;33m=\u001b[0m\u001b[0msolve\u001b[0m\u001b[1;33m(\u001b[0m\u001b[0mguess\u001b[0m\u001b[1;33m)\u001b[0m\u001b[1;33m\u001b[0m\u001b[0m\n\u001b[0m\u001b[0;32m     43\u001b[0m \u001b[0msol\u001b[0m\u001b[1;33m[\u001b[0m\u001b[1;33m:\u001b[0m\u001b[1;33m,\u001b[0m\u001b[1;36m2\u001b[0m\u001b[1;33m]\u001b[0m\u001b[1;33m=\u001b[0m\u001b[0msol\u001b[0m\u001b[1;33m[\u001b[0m\u001b[1;33m:\u001b[0m\u001b[1;33m,\u001b[0m\u001b[1;36m2\u001b[0m\u001b[1;33m]\u001b[0m\u001b[1;33m**\u001b[0m\u001b[1;36m2\u001b[0m \u001b[1;31m#Change from variance to SD\u001b[0m\u001b[1;33m\u001b[0m\u001b[0m\n\u001b[0;32m     44\u001b[0m \u001b[1;32mprint\u001b[0m \u001b[0mnp\u001b[0m\u001b[1;33m.\u001b[0m\u001b[0mround\u001b[0m\u001b[1;33m(\u001b[0m\u001b[0msol\u001b[0m\u001b[1;33m,\u001b[0m\u001b[1;36m2\u001b[0m\u001b[1;33m)\u001b[0m\u001b[1;33m\u001b[0m\u001b[0m\n",
      "\u001b[1;32m<ipython-input-4-7eea92932c8b>\u001b[0m in \u001b[0;36msolve\u001b[1;34m(guess, niters)\u001b[0m\n\u001b[0;32m     15\u001b[0m                 \u001b[0ms\u001b[0m\u001b[1;33m=\u001b[0m\u001b[0msum\u001b[0m\u001b[1;33m(\u001b[0m\u001b[1;33m[\u001b[0m\u001b[0mw1\u001b[0m\u001b[1;33m,\u001b[0m\u001b[0mw2\u001b[0m\u001b[1;33m,\u001b[0m\u001b[0mw3\u001b[0m\u001b[1;33m]\u001b[0m\u001b[1;33m)\u001b[0m\u001b[1;33m\u001b[0m\u001b[0m\n\u001b[0;32m     16\u001b[0m                 \u001b[1;32mimport\u001b[0m \u001b[0mpdb\u001b[0m\u001b[1;33m;\u001b[0m\u001b[0mpdb\u001b[0m\u001b[1;33m.\u001b[0m\u001b[0mset_trace\u001b[0m\u001b[1;33m(\u001b[0m\u001b[1;33m)\u001b[0m\u001b[1;33m\u001b[0m\u001b[0m\n\u001b[1;32m---> 17\u001b[1;33m                 \u001b[0mw1\u001b[0m\u001b[1;33m/=\u001b[0m\u001b[0ms\u001b[0m\u001b[1;33m\u001b[0m\u001b[0m\n\u001b[0m\u001b[0;32m     18\u001b[0m                 \u001b[0mw2\u001b[0m\u001b[1;33m/=\u001b[0m\u001b[0ms\u001b[0m\u001b[1;33m\u001b[0m\u001b[0m\n\u001b[0;32m     19\u001b[0m                 \u001b[0mw3\u001b[0m\u001b[1;33m/=\u001b[0m\u001b[0ms\u001b[0m\u001b[1;33m\u001b[0m\u001b[0m\n",
      "\u001b[1;32m<ipython-input-4-7eea92932c8b>\u001b[0m in \u001b[0;36msolve\u001b[1;34m(guess, niters)\u001b[0m\n\u001b[0;32m     15\u001b[0m                 \u001b[0ms\u001b[0m\u001b[1;33m=\u001b[0m\u001b[0msum\u001b[0m\u001b[1;33m(\u001b[0m\u001b[1;33m[\u001b[0m\u001b[0mw1\u001b[0m\u001b[1;33m,\u001b[0m\u001b[0mw2\u001b[0m\u001b[1;33m,\u001b[0m\u001b[0mw3\u001b[0m\u001b[1;33m]\u001b[0m\u001b[1;33m)\u001b[0m\u001b[1;33m\u001b[0m\u001b[0m\n\u001b[0;32m     16\u001b[0m                 \u001b[1;32mimport\u001b[0m \u001b[0mpdb\u001b[0m\u001b[1;33m;\u001b[0m\u001b[0mpdb\u001b[0m\u001b[1;33m.\u001b[0m\u001b[0mset_trace\u001b[0m\u001b[1;33m(\u001b[0m\u001b[1;33m)\u001b[0m\u001b[1;33m\u001b[0m\u001b[0m\n\u001b[1;32m---> 17\u001b[1;33m                 \u001b[0mw1\u001b[0m\u001b[1;33m/=\u001b[0m\u001b[0ms\u001b[0m\u001b[1;33m\u001b[0m\u001b[0m\n\u001b[0m\u001b[0;32m     18\u001b[0m                 \u001b[0mw2\u001b[0m\u001b[1;33m/=\u001b[0m\u001b[0ms\u001b[0m\u001b[1;33m\u001b[0m\u001b[0m\n\u001b[0;32m     19\u001b[0m                 \u001b[0mw3\u001b[0m\u001b[1;33m/=\u001b[0m\u001b[0ms\u001b[0m\u001b[1;33m\u001b[0m\u001b[0m\n",
      "\u001b[1;32m/usr/lib/python2.7/bdb.pyc\u001b[0m in \u001b[0;36mtrace_dispatch\u001b[1;34m(self, frame, event, arg)\u001b[0m\n\u001b[0;32m     47\u001b[0m             \u001b[1;32mreturn\u001b[0m \u001b[1;31m# None\u001b[0m\u001b[1;33m\u001b[0m\u001b[0m\n\u001b[0;32m     48\u001b[0m         \u001b[1;32mif\u001b[0m \u001b[0mevent\u001b[0m \u001b[1;33m==\u001b[0m \u001b[1;34m'line'\u001b[0m\u001b[1;33m:\u001b[0m\u001b[1;33m\u001b[0m\u001b[0m\n\u001b[1;32m---> 49\u001b[1;33m             \u001b[1;32mreturn\u001b[0m \u001b[0mself\u001b[0m\u001b[1;33m.\u001b[0m\u001b[0mdispatch_line\u001b[0m\u001b[1;33m(\u001b[0m\u001b[0mframe\u001b[0m\u001b[1;33m)\u001b[0m\u001b[1;33m\u001b[0m\u001b[0m\n\u001b[0m\u001b[0;32m     50\u001b[0m         \u001b[1;32mif\u001b[0m \u001b[0mevent\u001b[0m \u001b[1;33m==\u001b[0m \u001b[1;34m'call'\u001b[0m\u001b[1;33m:\u001b[0m\u001b[1;33m\u001b[0m\u001b[0m\n\u001b[0;32m     51\u001b[0m             \u001b[1;32mreturn\u001b[0m \u001b[0mself\u001b[0m\u001b[1;33m.\u001b[0m\u001b[0mdispatch_call\u001b[0m\u001b[1;33m(\u001b[0m\u001b[0mframe\u001b[0m\u001b[1;33m,\u001b[0m \u001b[0marg\u001b[0m\u001b[1;33m)\u001b[0m\u001b[1;33m\u001b[0m\u001b[0m\n",
      "\u001b[1;32m/usr/lib/python2.7/bdb.pyc\u001b[0m in \u001b[0;36mdispatch_line\u001b[1;34m(self, frame)\u001b[0m\n\u001b[0;32m     66\u001b[0m         \u001b[1;32mif\u001b[0m \u001b[0mself\u001b[0m\u001b[1;33m.\u001b[0m\u001b[0mstop_here\u001b[0m\u001b[1;33m(\u001b[0m\u001b[0mframe\u001b[0m\u001b[1;33m)\u001b[0m \u001b[1;32mor\u001b[0m \u001b[0mself\u001b[0m\u001b[1;33m.\u001b[0m\u001b[0mbreak_here\u001b[0m\u001b[1;33m(\u001b[0m\u001b[0mframe\u001b[0m\u001b[1;33m)\u001b[0m\u001b[1;33m:\u001b[0m\u001b[1;33m\u001b[0m\u001b[0m\n\u001b[0;32m     67\u001b[0m             \u001b[0mself\u001b[0m\u001b[1;33m.\u001b[0m\u001b[0muser_line\u001b[0m\u001b[1;33m(\u001b[0m\u001b[0mframe\u001b[0m\u001b[1;33m)\u001b[0m\u001b[1;33m\u001b[0m\u001b[0m\n\u001b[1;32m---> 68\u001b[1;33m             \u001b[1;32mif\u001b[0m \u001b[0mself\u001b[0m\u001b[1;33m.\u001b[0m\u001b[0mquitting\u001b[0m\u001b[1;33m:\u001b[0m \u001b[1;32mraise\u001b[0m \u001b[0mBdbQuit\u001b[0m\u001b[1;33m\u001b[0m\u001b[0m\n\u001b[0m\u001b[0;32m     69\u001b[0m         \u001b[1;32mreturn\u001b[0m \u001b[0mself\u001b[0m\u001b[1;33m.\u001b[0m\u001b[0mtrace_dispatch\u001b[0m\u001b[1;33m\u001b[0m\u001b[0m\n\u001b[0;32m     70\u001b[0m \u001b[1;33m\u001b[0m\u001b[0m\n",
      "\u001b[1;31mBdbQuit\u001b[0m: "
     ]
    }
   ],
   "source": [
    "#We choose an initial guess, and the start iterating\n",
    "#Our guess is of form [[lam1,mu1,sig1],[lam2,mu2,sig2],[lam3,mu2,sig3,]]\n",
    "\n",
    "#We generate a random initial guess\n",
    "guess=np.random.rand(3,3)\n",
    "\n",
    "def solve(guess,niters=100):\n",
    "    w=np.zeros((3,N))\n",
    "    for i in xrange(niters):\n",
    "        if guess[0][2]**2>.0001 and guess[1][2]**2>.0001 and guess[2][2]**2>.0001:\n",
    "            for x in xrange(N):\n",
    "                w1=guess[0][0]*np.exp((-(trials[x]-guess[0][1])**2)/(2*guess[0][2]**2))/(np.sqrt(2*np.pi)*guess[0][2])\n",
    "                w2=guess[1][0]*np.exp((-(trials[x]-guess[1][1])**2)/(2*guess[1][2]**2))/(np.sqrt(2*np.pi)*guess[1][2])\n",
    "                w3=guess[2][0]*np.exp((-(trials[x]-guess[2][1])**2)/(2*guess[2][2]**2))/(np.sqrt(2*np.pi)*guess[2][2])\n",
    "                s=sum([w1,w2,w3])\n",
    "                import pdb;pdb.set_trace()\n",
    "                w1/=s\n",
    "                w2/=s\n",
    "                w3/=s\n",
    "                w[0,x]=w1\n",
    "                w[1,x]=w2\n",
    "                w[2,x]=w3\n",
    "            guess[0][0]=np.mean(w[0])\n",
    "            guess[1][0]=np.mean(w[1])\n",
    "            guess[2][0]=np.mean(w[2])\n",
    "            if sum(w[0])**2>.0001 and sum(w[1])**2>.0001 and sum(w[2])**2>.0001:\n",
    "                guess[0][1]=sum(trials*w[0])/sum(w[0])\n",
    "                guess[1][1]=sum(trials*w[1])/sum(w[1])\n",
    "                guess[2][1]=sum(trials*w[2])/sum(w[2])\n",
    "                guess[0][2]=np.sqrt(sum(abs(trials-guess[0][1])*w[0])/sum(w[0]))\n",
    "                guess[1][2]=np.sqrt(sum(abs(trials-guess[1][1])*w[1])/sum(w[1]))\n",
    "                guess[2][2]=np.sqrt(sum(abs(trials-guess[2][1])*w[2])/sum(w[2]))\n",
    "\n",
    "    return guess\n",
    "        \n",
    "\"\"\"\n",
    "Compare to true value of\n",
    "[[.5, 8. ,2.0]\n",
    " [.3, 4. ,1.0]\n",
    " [.2, 0. ,.9]]\n",
    "\"\"\"\n",
    "sol=solve(guess)\n",
    "sol[:,2]=sol[:,2]**2 #Change from variance to SD\n",
    "print np.round(sol,2)"
   ]
  },
  {
   "cell_type": "code",
   "execution_count": 24,
   "metadata": {
    "collapsed": false
   },
   "outputs": [
    {
     "data": {
      "image/png": "[encoded data removed]",
      "text/plain": [
       "<matplotlib.figure.Figure at 0x7fb965e614d0>"
      ]
     },
     "metadata": {},
     "output_type": "display_data"
    }
   ],
   "source": [
    "Y4=np.array([(sol[0,0]/(sol[0,2]*np.sqrt(2*np.pi)))*np.exp(-(x-sol[0,1])**2/(2*sol[0,2]**2)) for x in X])\n",
    "Y5=np.array([(sol[1,0]/(sol[1,2]*np.sqrt(2*np.pi)))*np.exp(-(x-sol[1,1])**2/(2*sol[1,2]**2)) for x in X])\n",
    "Y6=np.array([(sol[2,0]/(sol[2,2]*np.sqrt(2*np.pi)))*np.exp(-(x-sol[2,1])**2/(2*sol[2,2]**2)) for x in X])\n",
    "\n",
    "\n",
    "plt.plot(X,Y1+Y2+Y3,label=\"Original Distribution\")\n",
    "plt.plot(X,Y4+Y5+Y6,label=\"Predicted Distribution\")\n",
    "plt.legend(loc=\"upper left\")\n",
    "plt.show()"
   ]
  },
  {
   "cell_type": "code",
   "execution_count": 5,
   "metadata": {
    "collapsed": false
   },
   "outputs": [
    {
     "data": {
      "text/plain": [
       "array([[ 0.02966084,  0.3335608 ,  0.55541812],\n",
       "       [ 0.51186348,  0.59020687,  0.64546271],\n",
       "       [ 0.49840879,  0.35312914,  0.3880098 ]])"
      ]
     },
     "execution_count": 5,
     "metadata": {},
     "output_type": "execute_result"
    }
   ],
   "source": [
    "#We take N samples from this distribution\n",
    "N=500\n",
    "trials=np.zeros(N)\n",
    "theta_lam = np.array([.5,.3,.2])\n",
    "theta_c = np.array([8.,4.,.0])\n",
    "theta_sig = np.array([1.5,1.,2.])\n",
    "np.random.seed(100)\n",
    "def generateGaussianData(N,lam,c,sig):\n",
    "    data = []\n",
    "    cumsum_lam = np.cumsum(lam)\n",
    "    for i in xrange(1,N+1):\n",
    "        d = np.random.rand(1)\n",
    "        j = len(np.where(d > cumsum_lam)[0]) -1\n",
    "        data.append(np.random.normal(loc=c[j],scale=sig[j]))\n",
    "    return np.array(data)\n",
    "data = generateGaussianData(N,theta_lam,theta_c,theta_sig)\n",
    "trials = data\n",
    "guess = np.random.rand(3,3)\n",
    "guess"
   ]
  },
  {
   "cell_type": "code",
   "execution_count": null,
   "metadata": {
    "collapsed": false
   },
   "outputs": [
    {
     "name": "stdout",
     "output_type": "stream",
     "text": [
      "> <ipython-input-6-dfd684a0b1f6>(11)solve()\n",
      "-> w1/=s\n",
      "(Pdb) np.exp((-(trials[x]-guess[0][1])**2)/(2*guess[0][2]**2))/(np.sqrt(2*np.pi)*guess[0][2])\n",
      "1.1960000275109778e-33\n",
      "(Pdb) print w1\n",
      "3.54743650939e-35\n"
     ]
    }
   ],
   "source": [
    "def solve(guess,niters=100):\n",
    "    w=np.zeros((3,N))\n",
    "    for i in xrange(niters):\n",
    "        if guess[0][2]**2>.0001 and guess[1][2]**2>.0001 and guess[2][2]**2>.0001:\n",
    "            for x in xrange(N):\n",
    "                w1=guess[0][0]*np.exp((-(trials[x]-guess[0][1])**2)/(2*guess[0][2]**2))/(np.sqrt(2*np.pi)*guess[0][2])\n",
    "                w2=guess[1][0]*np.exp((-(trials[x]-guess[1][1])**2)/(2*guess[1][2]**2))/(np.sqrt(2*np.pi)*guess[1][2])\n",
    "                w3=guess[2][0]*np.exp((-(trials[x]-guess[2][1])**2)/(2*guess[2][2]**2))/(np.sqrt(2*np.pi)*guess[2][2])\n",
    "                s=sum([w1,w2,w3])\n",
    "                \n",
    "                w1/=s\n",
    "                w2/=s\n",
    "                w3/=s\n",
    "                w[0,x]=w1\n",
    "                w[1,x]=w2\n",
    "                w[2,x]=w3\n",
    "            import pdb;pdb.set_trace()\n",
    "            guess[0][0]=np.mean(w[0])\n",
    "            guess[1][0]=np.mean(w[1])\n",
    "            guess[2][0]=np.mean(w[2])\n",
    "            if sum(w[0])**2>.0001 and sum(w[1])**2>.0001 and sum(w[2])**2>.0001:\n",
    "                guess[0][1]=sum(trials*w[0])/sum(w[0])\n",
    "                guess[1][1]=sum(trials*w[1])/sum(w[1])\n",
    "                guess[2][1]=sum(trials*w[2])/sum(w[2])\n",
    "                guess[0][2]=np.sqrt(sum(abs(trials-guess[0][1])*w[0])/sum(w[0]))\n",
    "                guess[1][2]=np.sqrt(sum(abs(trials-guess[1][1])*w[1])/sum(w[1]))\n",
    "                guess[2][2]=np.sqrt(sum(abs(trials-guess[2][1])*w[2])/sum(w[2]))\n",
    "\n",
    "    return guess\n",
    "        \n",
    "\n",
    "\n",
    "solve(guess)"
   ]
  },
  {
   "cell_type": "code",
   "execution_count": null,
   "metadata": {
    "collapsed": true
   },
   "outputs": [],
   "source": []
  }
 ],
 "metadata": {
  "kernelspec": {
   "display_name": "Python 2",
   "language": "python2",
   "name": "python2"
  },
  "language_info": {
   "codemirror_mode": {
    "name": "ipython",
    "version": 2
   },
   "file_extension": ".py",
   "mimetype": "text/x-python",
   "name": "python",
   "nbconvert_exporter": "python",
   "pygments_lexer": "ipython2",
   "version": "2.7.11"
  }
 },
 "nbformat": 4,
 "nbformat_minor": 0
}
