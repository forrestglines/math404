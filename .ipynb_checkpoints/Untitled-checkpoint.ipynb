{
 "cells": [
  {
   "cell_type": "code",
   "execution_count": 37,
   "metadata": {
    "collapsed": true
   },
   "outputs": [],
   "source": [
    "import numpy as np\n",
    "import scipy.linalg as la\n",
    "from matplotlib import pyplot as plt\n",
    "%matplotlib inline"
   ]
  },
  {
   "cell_type": "markdown",
   "metadata": {},
   "source": [
    "The rls algorithm, according to the paper\n",
    "R is just taken to be the identity matrix"
   ]
  },
  {
   "cell_type": "code",
   "execution_count": 38,
   "metadata": {
    "collapsed": true
   },
   "outputs": [],
   "source": [
    "def rls(A,B):\n",
    "    x = np.ones(A.shape[1]) \n",
    "    K = np.ones((A.shape[1],A.shape[1]))\n",
    "    R = np.eye(B.size)\n",
    "    for i in range(B.size):\n",
    "        #import pdb;pdb.set_trace()\n",
    "        a = A[:i+1]\n",
    "        r = R[:i+1,:i+1]\n",
    "        K = K - K.dot(a.T).dot(la.inv(r + a.dot(K).dot(a.T))).dot(a).dot(K)\n",
    "        x = x - (K.dot(a.T).dot(la.inv(r))).dot(a.dot(x) - B[i])\n",
    "    return x"
   ]
  },
  {
   "cell_type": "markdown",
   "metadata": {
    "collapsed": true
   },
   "source": [
    "For a size n, compare the error from RLS and OLS for 10 different random matricies, and take the average error for the two methods"
   ]
  },
  {
   "cell_type": "code",
   "execution_count": 39,
   "metadata": {
    "collapsed": true
   },
   "outputs": [],
   "source": [
    "def compare(n,repeat = 100):\n",
    "    diffs = np.zeros((2,10))\n",
    "    for i in xrange(repeat):\n",
    "        A = np.random.rand(n,n-1)\n",
    "        B = np.random.rand(n)\n",
    "        \n",
    "        xOls = la.lstsq(A,B)[0]\n",
    "        diffOls = la.norm(A.dot(xOls) - B)\n",
    "        \n",
    "        xRls = rls(A,B)\n",
    "        diffRls = la.norm(A.dot(xRls) - B)\n",
    "        \n",
    "        diffs[:,i] = (diffOls,diffRls)\n",
    "\n",
    "    return np.mean(diffs,axis=1)\n",
    "    "
   ]
  },
  {
   "cell_type": "markdown",
   "metadata": {
    "collapsed": true
   },
   "source": [
    "Generate the mean errors for several sizes of n"
   ]
  },
  {
   "cell_type": "code",
   "execution_count": null,
   "metadata": {
    "collapsed": true
   },
   "outputs": [],
   "source": [
    "diffs = np.array([compare(n) for n in np.arange(5,20)])"
   ]
  },
  {
   "cell_type": "markdown",
   "metadata": {
    "collapsed": false
   },
   "source": [
    "Plot the mean error for the two methods"
   ]
  },
  {
   "cell_type": "code",
   "execution_count": 49,
   "metadata": {
    "collapsed": false
   },
   "outputs": [
    {
     "data": {
      "image/png": "[encoded data removed]",
      "text/plain": [
       "<matplotlib.figure.Figure at 0x7f8bef656050>"
      ]
     },
     "metadata": {},
     "output_type": "display_data"
    }
   ],
   "source": [
    "plt.plot(np.arange(5,20),diffs[:,0],label=\"OLS\",linestyle=\"--\")\n",
    "plt.plot(np.arange(5,20),diffs[:,1],label=\"RLS\")\n",
    "plt.legend(loc=7)\n",
    "plt.show()"
   ]
  },
  {
   "cell_type": "markdown",
   "metadata": {
    "collapsed": true
   },
   "source": [
    "Apparently my RLS doesn't work as well as OLS, and gets worse with larger n, but at least its in the ballpark"
   ]
  }
 ],
 "metadata": {
  "kernelspec": {
   "display_name": "Python 2",
   "language": "python2",
   "name": "python2"
  },
  "language_info": {
   "codemirror_mode": {
    "name": "ipython",
    "version": 2
   },
   "file_extension": ".py",
   "mimetype": "text/x-python",
   "name": "python",
   "nbconvert_exporter": "python",
   "pygments_lexer": "ipython2",
   "version": "2.7.11"
  }
 },
 "nbformat": 4,
 "nbformat_minor": 0
}
