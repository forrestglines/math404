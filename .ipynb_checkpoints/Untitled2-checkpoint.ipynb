{
 "cells": [
  {
   "cell_type": "code",
   "execution_count": 1,
   "metadata": {
    "collapsed": true
   },
   "outputs": [],
   "source": [
    "import numpy as np\n",
    "import scipy.linalg as la\n",
    "import matplotlib.pyplot as plt\n",
    "plt.rc('text', usetex=True)\n",
    "%matplotlib inline"
   ]
  },
  {
   "cell_type": "code",
   "execution_count": 4,
   "metadata": {
    "collapsed": true
   },
   "outputs": [],
   "source": [
    "def EM_GMM_alg(data, n, tol=.001, verbose=0, robust=False):\n",
    "    iters = 0\n",
    "    diff = 1\n",
    "    l_0 = np.random.rand(n)\n",
    "    mean_max = np.max(data)\n",
    "    mean_min= np.min(data)\n",
    "    \n",
    "    m_0 = np.linspace(mean_min, mean_max, n)\n",
    "    s_0 = 0.15 * np.ones(n)\n",
    "    l_0 /= np.sum(l_0)\n",
    "    lam = l_0\n",
    "    m = m_0\n",
    "    s = s_0\n",
    "    \n",
    "    def pdf(x, m, s):\n",
    "        d = 1.0\n",
    "        return (1/((2.0 * np.pi)**(d/2.0) * s**d))*np.exp((-np.linalg.norm(x-m)**2)/(2.0*s**2))\n",
    "    \n",
    "    while np.abs(diff) > tol:\n",
    "        if verbose == 2:\n",
    "            print \"\\rLam:\" + str(lam) +\" Means:\" + str(m) + \" Sigs:\" + str(s),\n",
    "        elif verbose == 1:\n",
    "             print \"\\rIters: \" + str(iters),\n",
    "        \n",
    "        p = np.array([[pdf(data[i], m[j], s[j]) for j in xrange(len(m))] for i in xrange(len(data))])\n",
    "        lam_old = lam.copy()\n",
    "        p *= lam\n",
    "        z_s = np.sum(p, axis=1)\n",
    "        import pdb;pdb.set_trace()\n",
    "        w = p/z_s.reshape((len(z_s), 1))\n",
    "        lam = np.mean(w, axis=0)\n",
    "        w_s = np.sum(w, axis=0)\n",
    "        w_d = w*data.reshape((len(data), 1))\n",
    "        w_d_s = np.sum(w_d, axis=0)\n",
    "        c = w_d_s/w_s\n",
    "        to_norm = np.array([data - c[j] for j in xrange(len(m))])\n",
    "        to_norm = np.swapaxes(to_norm, 0, 1)\n",
    "        ss = np.sum(w*(to_norm**2.0), axis=0)\n",
    "        s = np.sqrt(ss/(1 * w_s))\n",
    "        m = c\n",
    "        diff = np.linalg.norm(lam - lam_old)\n",
    "        if robust:\n",
    "            diff = [np.linalg.norm(lam - lam_old), np.linalg.norm(c - old_c), np.linalg.norm(sig - old_sig)]\n",
    "            diff = np.max(diff)\n",
    "        iters += 1\n",
    "    print iters\n",
    "        \n",
    "    #ll = np.sum([[np.log(lam[j]*pdf(data[i], m[j], s[j])) for j in xrange(len(lam))] for i in xrange(len(data))])\n",
    "    return lam, m, s"
   ]
  },
  {
   "cell_type": "code",
   "execution_count": null,
   "metadata": {
    "collapsed": false
   },
   "outputs": [
    {
     "name": "stdout",
     "output_type": "stream",
     "text": [
      "> <ipython-input-4-3b1ac025c264>(25)EM_GMM_alg()\n",
      "-> p = np.array([[pdf(data[i], m[j], s[j]) for j in xrange(len(m))] for i in xrange(len(data))])\n",
      "(Pdb) print p\n",
      "*** NameError: name 'p' is not defined\n",
      "(Pdb) print lam\n",
      "[ 0.31401126  0.37088026  0.12800886  0.18709962]\n",
      "(Pdb) print c\n",
      "*** NameError: name 'c' is not defined\n",
      "(Pdb) print m\n",
      "[-0.74848423 -0.1084246   0.53163502  1.17169465]\n",
      "(Pdb) print m.shape\n",
      "(4,)\n"
     ]
    }
   ],
   "source": [
    "#Code to generate Gaussian Mixture data\n",
    "def generateGaussianData(N,lam,c,sig):\n",
    "    data = []\n",
    "    cumsum_lam = np.cumsum(lam)\n",
    "    for i in xrange(1,N+1):\n",
    "        d = np.random.rand(1)\n",
    "        j = len(np.where(d > cumsum_lam)[0]) -1\n",
    "        data.append(np.random.normal(loc=c[j],scale=sig[j]))\n",
    "    return np.array(data)\n",
    "np.random.seed(100)\n",
    "theta_lam = np.array( [.1, .6, .15, .15])\n",
    "theta_c = np.array([.1, .9, .5, .3])\n",
    "theta_sig = np.array([.2, .1, .05, .1])\n",
    "data = generateGaussianData(2000,theta_lam,theta_c,theta_sig)\n",
    "EM_GMM_alg(data,4)"
   ]
  },
  {
   "cell_type": "code",
   "execution_count": null,
   "metadata": {
    "collapsed": true
   },
   "outputs": [],
   "source": []
  }
 ],
 "metadata": {
  "kernelspec": {
   "display_name": "Python 2",
   "language": "python2",
   "name": "python2"
  },
  "language_info": {
   "codemirror_mode": {
    "name": "ipython",
    "version": 2
   },
   "file_extension": ".py",
   "mimetype": "text/x-python",
   "name": "python",
   "nbconvert_exporter": "python",
   "pygments_lexer": "ipython2",
   "version": "2.7.11"
  }
 },
 "nbformat": 4,
 "nbformat_minor": 0
}
