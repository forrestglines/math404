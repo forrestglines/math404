{
 "cells": [
  {
   "cell_type": "code",
   "execution_count": 1,
   "metadata": {
    "collapsed": true
   },
   "outputs": [],
   "source": [
    "import numpy as np\n",
    "import scipy.linalg as la\n",
    "import matplotlib.pyplot as plt\n",
    "%matplotlib inline"
   ]
  },
  {
   "cell_type": "code",
   "execution_count": null,
   "metadata": {
    "collapsed": true
   },
   "outputs": [],
   "source": [
    "theta_lam = [.2,.3,.15,.35]\n",
    "theta_c = [[.1,.1],[.4,.4],[.9,.5],[.2,.7]]\n",
    "theta_sig = [.05,.05,.07,.03]\n",
    "def generateGaussianData(N,lam,c,sig):\n",
    "    data = []\n",
    "    cumsum_lam = np.cumsum(lam)\n",
    "    for i in xrange(1,N+1):\n",
    "        d = np.random.rand(1)\n",
    "        j = len(np.where(d > cumsum_lam)[0]) -1\n",
    "        data.append(np.random.normal(loc=c[j],scale=sig[j]))\n",
    "    return np.array(data)\n",
    "data = generateGaussianData(100,theta_lam,theta_c,theta_sig)\n",
    "plt.scatter(data[:,0],data[:,1])\n",
    "plt.show()"
   ]
  }
 ],
 "metadata": {
  "kernelspec": {
   "display_name": "Python 2",
   "language": "python2",
   "name": "python2"
  },
  "language_info": {
   "codemirror_mode": {
    "name": "ipython",
    "version": 2
   },
   "file_extension": ".py",
   "mimetype": "text/x-python",
   "name": "python",
   "nbconvert_exporter": "python",
   "pygments_lexer": "ipython2",
   "version": "2.7.11"
  }
 },
 "nbformat": 4,
 "nbformat_minor": 0
}
