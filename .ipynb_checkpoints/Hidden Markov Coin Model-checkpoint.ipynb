{
 "cells": [
  {
   "cell_type": "code",
   "execution_count": 281,
   "metadata": {
    "collapsed": true
   },
   "outputs": [],
   "source": [
    "import numpy as np\n",
    "import numpy.random as random\n",
    "from matplotlib import pyplot as plt\n",
    "from scipy import optimize"
   ]
  },
  {
   "cell_type": "code",
   "execution_count": 282,
   "metadata": {
    "collapsed": true
   },
   "outputs": [],
   "source": [
    "#Generates coinflip data as a HMM\n",
    "#For each of n samples, a coin X with lam probability of coming up heads is flipped\n",
    "#If X is heads, coin 1 is flipped nn times, where coin 1 has a probability of heads of p1\n",
    "#If X is tails, coin 2 is flipped nn times, where coin 2 has a probability of heads of p2\n",
    "#n is the number of samples\n",
    "#nn is the number of coin flips in each sample\n",
    "def generate_coinflip_data(n, nn, lam, p1, p2):\n",
    "    def flip_1(m):\n",
    "        d = random.random(m)\n",
    "        res = np.ones(m)\n",
    "        res[np.where(d < p1)] = 0\n",
    "        return res\n",
    "    \n",
    "    def flip_2(m):\n",
    "        d = random.random(m)\n",
    "        res = np.ones(m)\n",
    "        res[np.where(d < p2)] = 0\n",
    "        return res\n",
    "    \n",
    "    data = []\n",
    "    for i in xrange(n):\n",
    "        init_flip = random.random(1)\n",
    "        if init_flip > lam:\n",
    "            data.append(flip_1(nn))\n",
    "        else:\n",
    "            data.append(flip_2(nn))\n",
    "            \n",
    "    return np.array(data)"
   ]
  },
  {
   "cell_type": "code",
   "execution_count": 286,
   "metadata": {
    "collapsed": false
   },
   "outputs": [],
   "source": [
    "#Attempts to back out the probabilities of lam, p1, and p2 from the generating function above given data\n",
    "#Requires an initial guess of l_0, p1_0, and p2_0\n",
    "#This algorithm only finds local maximums, and sometimes is confused by the data if poor initial guesses are given\n",
    "def EM_alg(data, l_0 = .4, p1_0 = .3, p2_0 = .6, tol=.01):\n",
    "    iters = 0\n",
    "    diff = 1\n",
    "    lam = l_0\n",
    "    p1 = p1_0\n",
    "    p2 = p2_0\n",
    "    j = float(len(data[0])) #This is the nn parameter from above.\n",
    "    \n",
    "    while np.abs(diff) > tol:\n",
    "        iters += 1\n",
    "        \n",
    "        h = np.sum(data, axis = 1)\n",
    "        l = lam\n",
    "        p = p1\n",
    "        q = p2\n",
    "        mu = (l * p ** h * (1 - p) ** (j - h))/((l * p ** h * (1 - p) ** (j - h)) + ((1 - l) * q ** h * (1 - q)**(j - h)))\n",
    "                \n",
    "        lam_new = np.sum(mu/(1.0*len(data)))\n",
    "        \n",
    "        p_new = np.sum((h / j) * mu)/float(np.sum(mu))\n",
    "       \n",
    "        q_new = np.sum((h / j) * (1 - mu)) / float(np.sum(1 - mu))\n",
    "        \n",
    "        p1 = p_new\n",
    "        p2 = q_new\n",
    "        \n",
    "        diff = lam - lam_new\n",
    "        lam = lam_new\n",
    "        \n",
    "    return lam, p1, p2"
   ]
  },
  {
   "cell_type": "code",
   "execution_count": 287,
   "metadata": {
    "collapsed": true
   },
   "outputs": [],
   "source": [
    "d = generate_coinflip_data(10000, 3, .3, .8, .2)"
   ]
  },
  {
   "cell_type": "code",
   "execution_count": 289,
   "metadata": {
    "collapsed": false
   },
   "outputs": [
    {
     "data": {
      "text/plain": [
       "(0.27830144090744774, 0.82801165185848602, 0.20987039850831044)"
      ]
     },
     "execution_count": 289,
     "metadata": {},
     "output_type": "execute_result"
    }
   ],
   "source": [
    "EM_alg(d, l_0 = 0.1, p1_0 = .7, p2_0 = .2, tol=.0001)"
   ]
  },
  {
   "cell_type": "code",
   "execution_count": null,
   "metadata": {
    "collapsed": true
   },
   "outputs": [],
   "source": []
  }
 ],
 "metadata": {
  "kernelspec": {
   "display_name": "Python 2",
   "language": "python2",
   "name": "python2"
  },
  "language_info": {
   "codemirror_mode": {
    "name": "ipython",
    "version": 2
   },
   "file_extension": ".py",
   "mimetype": "text/x-python",
   "name": "python",
   "nbconvert_exporter": "python",
   "pygments_lexer": "ipython2",
   "version": "2.7.11"
  }
 },
 "nbformat": 4,
 "nbformat_minor": 0
}
